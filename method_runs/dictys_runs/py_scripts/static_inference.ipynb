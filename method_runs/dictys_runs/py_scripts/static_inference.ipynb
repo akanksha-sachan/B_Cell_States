{
 "cells": [
  {
   "cell_type": "markdown",
   "metadata": {},
   "source": [
    "#### Makefiles for GRN inference"
   ]
  },
  {
   "cell_type": "code",
   "execution_count": 1,
   "metadata": {},
   "outputs": [],
   "source": [
    "%%bash\n",
    "code_dir=\"/ocean/projects/cis240075p/asachan/bio_informatics_analysis/multiome_B_Cell_analysis/B_Cell_analysis_code/methods/dictys_runs\"\n",
    "rm -Rf $code_dir/makefiles\n",
    "mkdir $code_dir/makefiles\n",
    "cd $code_dir/makefiles\n",
    "dictys_helper makefile_template.sh common.mk config.mk env_none.mk static.mk\n"
   ]
  },
  {
   "cell_type": "code",
   "execution_count": 2,
   "metadata": {},
   "outputs": [],
   "source": [
    "%%bash\n",
    "code_dir=\"/ocean/projects/cis240075p/asachan/bio_informatics_analysis/multiome_B_Cell_analysis/B_Cell_analysis_code/methods/dictys_runs\"\n",
    "# Update configurations, such as:\n",
    "# DEVICE: pytorch device, e.g. cpu, cuda:0. If you do not have a GPU, use 'cpu' and expect LONG computing time.\n",
    "# GENOME_MACS2: effective genome size for macs2. See https://deeptools.readthedocs.io/en/develop/content/feature/effectiveGenomeSize.html\n",
    "# JOINT: whether dataset is joint profiling of RNA and ATAC.\n",
    "# Other configurations include quality control thresholds, number of threads in each job, number of hidden confounders, etc.\n",
    "# They can be obtained in the full-multiome tutorial.\n",
    "# NTH*j = 128, where j is the number of jobs defined during execution\n",
    "dictys_helper makefile_update.py $code_dir/makefiles/config.mk '{\"ENVMODE\": \"none\", \"NTH\": \"4\", \"DEVICE\": \"cuda:0\", \"GENOME_MACS2\": \"hs\", \"JOINT\": \"1\"}'\n"
   ]
  },
  {
   "cell_type": "code",
   "execution_count": 14,
   "metadata": {},
   "outputs": [
    {
     "name": "stdout",
     "output_type": "stream",
     "text": [
      "cat: /ocean/projects/cis240075p/asachan/bio_informatics_analysis/multiome_B_Cell_analysis/B_Cell_analysis_code/methods/dictys_runs/makefiles/config.mk: No such file or directory\n"
     ]
    }
   ],
   "source": [
    "!cat /ocean/projects/cis240075p/asachan/bio_informatics_analysis/multiome_B_Cell_analysis/B_Cell_analysis_code/methods/dictys_runs/makefiles/config.mk"
   ]
  },
  {
   "cell_type": "code",
   "execution_count": 15,
   "metadata": {},
   "outputs": [
    {
     "name": "stdout",
     "output_type": "stream",
     "text": [
      "Joint profile: True\n",
      "Found 35420 cells with RNA profile\n",
      "Found 24036 genes with RNA profile\n",
      "Found 35420 cells with ATAC profile\n",
      "Found 769 motifs\n",
      "Found 678 TFs\n",
      "Found 461 TFs in current dataset\n",
      "Missing 217 TFs in current dataset: ANDR,AP2A,AP2B,AP2C,AP2D,ARI3A,ARI5B,ATF6A,BARH1,BARH2,BC11A,BHA15,BHE22,BHE23,BHE40,BHE41,BMAL1,BRAC,BSH,COE1,COT1,COT2,CR3L1,CR3L2,ERR1,ERR2,ERR3,EVI1,GCR,HEN1,HMBX1,HME1,HME2,HNF6,HTF4,HXA1,HXA10,HXA11,HXA13,HXA2,HXA5,HXA7,HXA9,HXB1,HXB13,HXB2,HXB3,HXB4,HXB6,HXB7,HXB8,HXC10,HXC11,HXC12,HXC13,HXC6,HXC8,HXC9,HXD10,HXD11,HXD12,HXD13,HXD3,HXD4,HXD8,HXD9,ITF2,KAISO,MCR,MGAP,MLXPL,MYBA,MYBB,NDF1,NDF2,NF2L1,NF2L2,NFAC1,NFAC2,NFAC3,NFAC4,NGN2,NKX21,NKX22,NKX23,NKX25,NKX28,NKX31,NKX32,NKX61,NKX62,ONEC2,ONEC3,OZF,P53,P5F1B,P63,P73,PEBB,PHX2A,PHX2B,PIT1,PKNX1,PLAL1,PO2F1,PO2F2,PO2F3,PO3F1,PO3F2,PO3F3,PO3F4,PO4F1,PO4F2,PO4F3,PO5F1,PO6F1,PO6F2,PRD14,PRGR,RHXF1,RORG,RX,SMCA1,SMCA5,SRBP1,SRBP2,STA5A,STA5B,STF1,SUH,TF2LX,TF65,TF7L1,TF7L2,TFE2,THA,THA11,THB,TWST1,TYY1,TYY2,UBIP1,UNC4,Z324A,Z354A,ZBT14,ZBT17,ZBT18,ZBT48,ZBT49,ZBT7A,ZBT7B,ZEP1,ZEP2,ZF64A,ZKSC1,ZKSC3,ZN121,ZN134,ZN136,ZN140,ZN143,ZN148,ZN214,ZN219,ZN232,ZN250,ZN257,ZN260,ZN263,ZN264,ZN274,ZN281,ZN282,ZN317,ZN320,ZN322,ZN329,ZN331,ZN333,ZN335,ZN341,ZN350,ZN382,ZN384,ZN394,ZN410,ZN418,ZN423,ZN436,ZN449,ZN467,ZN490,ZN502,ZN524,ZN528,ZN547,ZN549,ZN554,ZN563,ZN582,ZN586,ZN589,ZN652,ZN667,ZN680,ZN708,ZN713,ZN740,ZN768,ZN770,ZN784,ZN816,ZSC16,ZSC22,ZSC31,ZSCA4\n",
      "Found 23533 genes with TSS information\n"
     ]
    },
    {
     "name": "stderr",
     "output_type": "stream",
     "text": [
      "WARNING:root:Chromosomes not found in reference genome: chrGL000194.1,chrMT\n",
      "WARNING:root:Cannot find dynamic.mk or traj_node.h5. Skipping dynamic network inference checks.\n"
     ]
    }
   ],
   "source": [
    "%%bash\n",
    "#run checks on dataset and makefiles\n",
    "data=\"/ocean/projects/cis240075p/asachan/datasets/B_Cell/multiome_1st_donor_UPMC_aggr/dictys_outs/data\"\n",
    "makefiles=\"/ocean/projects/cis240075p/asachan/bio_informatics_analysis/multiome_B_Cell_analysis/B_Cell_analysis_code/method_runs/dictys_runs/makefiles\"\n",
    "\n",
    "dictys_helper makefile_check.py --dir_data $data --dir_makefiles $makefiles"
   ]
  },
  {
   "cell_type": "markdown",
   "metadata": {},
   "source": [
    "#### debugging cell-matching"
   ]
  },
  {
   "cell_type": "code",
   "execution_count": 3,
   "metadata": {},
   "outputs": [
    {
     "name": "stderr",
     "output_type": "stream",
     "text": [
      "Executing: cp -- /ocean/projects/cis240075p/asachan/datasets/B_Cell/multiome_1st_donor_UPMC_aggr/dictys_outs/data/expression.tsv.gz /dev/shm\n"
     ]
    }
   ],
   "source": [
    "%%bash\n",
    "psc_path=\"/ocean/projects/cis240075p/asachan/datasets/B_Cell/multiome_1st_donor_UPMC_aggr/dictys_outs/data/expression.tsv.gz\"\n",
    "LOCAL_PATH=\"/dev/shm\"\n",
    "\n",
    "# Transfer with progress and verbose output\n",
    "scp -v -C $psc_path $LOCAL_PATH"
   ]
  },
  {
   "cell_type": "code",
   "execution_count": 7,
   "metadata": {},
   "outputs": [],
   "source": [
    "import pandas as pd\n",
    "# load the expression matrix\n",
    "expression_mtx = pd.read_csv('/dev/shm/expression.tsv', sep='\\t', index_col=0)"
   ]
  },
  {
   "cell_type": "code",
   "execution_count": 8,
   "metadata": {},
   "outputs": [
    {
     "data": {
      "text/plain": [
       "(24036, 35420)"
      ]
     },
     "execution_count": 8,
     "metadata": {},
     "output_type": "execute_result"
    }
   ],
   "source": [
    "#print the number of cells and genes\n",
    "expression_mtx.shape"
   ]
  },
  {
   "cell_type": "code",
   "execution_count": 9,
   "metadata": {},
   "outputs": [
    {
     "data": {
      "text/html": [
       "<div>\n",
       "<style scoped>\n",
       "    .dataframe tbody tr th:only-of-type {\n",
       "        vertical-align: middle;\n",
       "    }\n",
       "\n",
       "    .dataframe tbody tr th {\n",
       "        vertical-align: top;\n",
       "    }\n",
       "\n",
       "    .dataframe thead th {\n",
       "        text-align: right;\n",
       "    }\n",
       "</style>\n",
       "<table border=\"1\" class=\"dataframe\">\n",
       "  <thead>\n",
       "    <tr style=\"text-align: right;\">\n",
       "      <th></th>\n",
       "      <th>AAACAGCCAAACCTTG-1</th>\n",
       "      <th>AAACAGCCAAAGCTAA-1</th>\n",
       "      <th>AAACAGCCAAGCCACT-1</th>\n",
       "      <th>AAACAGCCAAGGTGCA-1</th>\n",
       "      <th>AAACAGCCAAGTTATC-1</th>\n",
       "      <th>AAACAGCCAATAGCCC-1</th>\n",
       "      <th>AAACAGCCAATTATGC-1</th>\n",
       "      <th>AAACAGCCAGTTAGCC-1</th>\n",
       "      <th>AAACAGCCATAATCCG-1</th>\n",
       "      <th>AAACAGCCATTCAGCA-1</th>\n",
       "      <th>...</th>\n",
       "      <th>TTTGTTGGTGTTGCAA-1</th>\n",
       "      <th>TTTGTTGGTTAAGGTT-1</th>\n",
       "      <th>TTTGTTGGTTAGCGTA-1</th>\n",
       "      <th>TTTGTTGGTTATCCGT-1</th>\n",
       "      <th>TTTGTTGGTTGACTTC-1</th>\n",
       "      <th>TTTGTTGGTTTACGTC-1</th>\n",
       "      <th>TTTGTTGGTTTAGTCC-1</th>\n",
       "      <th>TTTGTTGGTTTATGGG-1</th>\n",
       "      <th>TTTGTTGGTTTCCTCC-1</th>\n",
       "      <th>TTTGTTGGTTTGAGGC-1</th>\n",
       "    </tr>\n",
       "  </thead>\n",
       "  <tbody>\n",
       "    <tr>\n",
       "      <th>A1BG</th>\n",
       "      <td>0</td>\n",
       "      <td>0</td>\n",
       "      <td>0</td>\n",
       "      <td>0</td>\n",
       "      <td>0</td>\n",
       "      <td>0</td>\n",
       "      <td>0</td>\n",
       "      <td>0</td>\n",
       "      <td>0</td>\n",
       "      <td>0</td>\n",
       "      <td>...</td>\n",
       "      <td>0</td>\n",
       "      <td>0</td>\n",
       "      <td>0</td>\n",
       "      <td>1</td>\n",
       "      <td>0</td>\n",
       "      <td>0</td>\n",
       "      <td>0</td>\n",
       "      <td>0</td>\n",
       "      <td>0</td>\n",
       "      <td>0</td>\n",
       "    </tr>\n",
       "    <tr>\n",
       "      <th>A1BG-AS1</th>\n",
       "      <td>0</td>\n",
       "      <td>0</td>\n",
       "      <td>0</td>\n",
       "      <td>0</td>\n",
       "      <td>0</td>\n",
       "      <td>0</td>\n",
       "      <td>0</td>\n",
       "      <td>0</td>\n",
       "      <td>0</td>\n",
       "      <td>0</td>\n",
       "      <td>...</td>\n",
       "      <td>0</td>\n",
       "      <td>0</td>\n",
       "      <td>0</td>\n",
       "      <td>0</td>\n",
       "      <td>0</td>\n",
       "      <td>0</td>\n",
       "      <td>0</td>\n",
       "      <td>0</td>\n",
       "      <td>0</td>\n",
       "      <td>0</td>\n",
       "    </tr>\n",
       "    <tr>\n",
       "      <th>A1CF</th>\n",
       "      <td>0</td>\n",
       "      <td>0</td>\n",
       "      <td>0</td>\n",
       "      <td>0</td>\n",
       "      <td>0</td>\n",
       "      <td>0</td>\n",
       "      <td>0</td>\n",
       "      <td>0</td>\n",
       "      <td>0</td>\n",
       "      <td>0</td>\n",
       "      <td>...</td>\n",
       "      <td>0</td>\n",
       "      <td>0</td>\n",
       "      <td>0</td>\n",
       "      <td>0</td>\n",
       "      <td>0</td>\n",
       "      <td>0</td>\n",
       "      <td>0</td>\n",
       "      <td>0</td>\n",
       "      <td>0</td>\n",
       "      <td>0</td>\n",
       "    </tr>\n",
       "    <tr>\n",
       "      <th>A2M</th>\n",
       "      <td>0</td>\n",
       "      <td>0</td>\n",
       "      <td>0</td>\n",
       "      <td>0</td>\n",
       "      <td>0</td>\n",
       "      <td>0</td>\n",
       "      <td>0</td>\n",
       "      <td>0</td>\n",
       "      <td>0</td>\n",
       "      <td>0</td>\n",
       "      <td>...</td>\n",
       "      <td>0</td>\n",
       "      <td>0</td>\n",
       "      <td>0</td>\n",
       "      <td>0</td>\n",
       "      <td>0</td>\n",
       "      <td>0</td>\n",
       "      <td>0</td>\n",
       "      <td>0</td>\n",
       "      <td>0</td>\n",
       "      <td>0</td>\n",
       "    </tr>\n",
       "    <tr>\n",
       "      <th>A2M-AS1</th>\n",
       "      <td>0</td>\n",
       "      <td>0</td>\n",
       "      <td>0</td>\n",
       "      <td>0</td>\n",
       "      <td>0</td>\n",
       "      <td>0</td>\n",
       "      <td>0</td>\n",
       "      <td>0</td>\n",
       "      <td>0</td>\n",
       "      <td>0</td>\n",
       "      <td>...</td>\n",
       "      <td>0</td>\n",
       "      <td>0</td>\n",
       "      <td>0</td>\n",
       "      <td>0</td>\n",
       "      <td>0</td>\n",
       "      <td>0</td>\n",
       "      <td>0</td>\n",
       "      <td>0</td>\n",
       "      <td>0</td>\n",
       "      <td>0</td>\n",
       "    </tr>\n",
       "  </tbody>\n",
       "</table>\n",
       "<p>5 rows × 35420 columns</p>\n",
       "</div>"
      ],
      "text/plain": [
       "          AAACAGCCAAACCTTG-1  AAACAGCCAAAGCTAA-1  AAACAGCCAAGCCACT-1  \\\n",
       "A1BG                       0                   0                   0   \n",
       "A1BG-AS1                   0                   0                   0   \n",
       "A1CF                       0                   0                   0   \n",
       "A2M                        0                   0                   0   \n",
       "A2M-AS1                    0                   0                   0   \n",
       "\n",
       "          AAACAGCCAAGGTGCA-1  AAACAGCCAAGTTATC-1  AAACAGCCAATAGCCC-1  \\\n",
       "A1BG                       0                   0                   0   \n",
       "A1BG-AS1                   0                   0                   0   \n",
       "A1CF                       0                   0                   0   \n",
       "A2M                        0                   0                   0   \n",
       "A2M-AS1                    0                   0                   0   \n",
       "\n",
       "          AAACAGCCAATTATGC-1  AAACAGCCAGTTAGCC-1  AAACAGCCATAATCCG-1  \\\n",
       "A1BG                       0                   0                   0   \n",
       "A1BG-AS1                   0                   0                   0   \n",
       "A1CF                       0                   0                   0   \n",
       "A2M                        0                   0                   0   \n",
       "A2M-AS1                    0                   0                   0   \n",
       "\n",
       "          AAACAGCCATTCAGCA-1  ...  TTTGTTGGTGTTGCAA-1  TTTGTTGGTTAAGGTT-1  \\\n",
       "A1BG                       0  ...                   0                   0   \n",
       "A1BG-AS1                   0  ...                   0                   0   \n",
       "A1CF                       0  ...                   0                   0   \n",
       "A2M                        0  ...                   0                   0   \n",
       "A2M-AS1                    0  ...                   0                   0   \n",
       "\n",
       "          TTTGTTGGTTAGCGTA-1  TTTGTTGGTTATCCGT-1  TTTGTTGGTTGACTTC-1  \\\n",
       "A1BG                       0                   1                   0   \n",
       "A1BG-AS1                   0                   0                   0   \n",
       "A1CF                       0                   0                   0   \n",
       "A2M                        0                   0                   0   \n",
       "A2M-AS1                    0                   0                   0   \n",
       "\n",
       "          TTTGTTGGTTTACGTC-1  TTTGTTGGTTTAGTCC-1  TTTGTTGGTTTATGGG-1  \\\n",
       "A1BG                       0                   0                   0   \n",
       "A1BG-AS1                   0                   0                   0   \n",
       "A1CF                       0                   0                   0   \n",
       "A2M                        0                   0                   0   \n",
       "A2M-AS1                    0                   0                   0   \n",
       "\n",
       "          TTTGTTGGTTTCCTCC-1  TTTGTTGGTTTGAGGC-1  \n",
       "A1BG                       0                   0  \n",
       "A1BG-AS1                   0                   0  \n",
       "A1CF                       0                   0  \n",
       "A2M                        0                   0  \n",
       "A2M-AS1                    0                   0  \n",
       "\n",
       "[5 rows x 35420 columns]"
      ]
     },
     "execution_count": 9,
     "metadata": {},
     "output_type": "execute_result"
    }
   ],
   "source": [
    "# inspect the expression matrix\n",
    "expression_mtx.head()"
   ]
  },
  {
   "cell_type": "markdown",
   "metadata": {},
   "source": [
    "#### Infer static GRNs now"
   ]
  }
 ],
 "metadata": {
  "kernelspec": {
   "display_name": "dictys",
   "language": "python",
   "name": "python3"
  },
  "language_info": {
   "codemirror_mode": {
    "name": "ipython",
    "version": 3
   },
   "file_extension": ".py",
   "mimetype": "text/x-python",
   "name": "python",
   "nbconvert_exporter": "python",
   "pygments_lexer": "ipython3",
   "version": "3.9.19"
  }
 },
 "nbformat": 4,
 "nbformat_minor": 2
}
