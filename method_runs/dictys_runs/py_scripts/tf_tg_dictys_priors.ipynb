{
 "cells": [
  {
   "cell_type": "markdown",
   "metadata": {},
   "source": [
    "#### NOT USING!!!!!!!! Makefiles for GRN inference"
   ]
  },
  {
   "cell_type": "code",
   "execution_count": 1,
   "metadata": {},
   "outputs": [],
   "source": [
    "%%bash\n",
    "code_dir=\"/ocean/projects/cis240075p/asachan/bio_informatics_analysis/multiome_B_Cell_analysis/B_Cell_analysis_code/method_runs/dictys_runs\"\n",
    "rm -Rf $code_dir/makefiles\n",
    "mkdir $code_dir/makefiles\n",
    "cd $code_dir/makefiles\n",
    "dictys_helper makefile_template.sh common.mk config.mk env_none.mk static.mk\n"
   ]
  },
  {
   "cell_type": "code",
   "execution_count": 2,
   "metadata": {},
   "outputs": [],
   "source": [
    "%%bash\n",
    "code_dir=\"/ocean/projects/cis240075p/asachan/bio_informatics_analysis/multiome_B_Cell_analysis/B_Cell_analysis_code/method_runs/dictys_runs\"\n",
    "# Update configurations, such as:\n",
    "# DEVICE: pytorch device, e.g. cpu, cuda:0. If you do not have a GPU, use 'cpu' and expect LONG computing time.\n",
    "# GENOME_MACS2: effective genome size for macs2. See https://deeptools.readthedocs.io/en/develop/content/feature/effectiveGenomeSize.html\n",
    "# JOINT: whether dataset is joint profiling of RNA and ATAC.\n",
    "# Other configurations include quality control thresholds, number of threads in each job, number of hidden confounders, etc.\n",
    "# They can be obtained in the full-multiome tutorial.\n",
    "# NTH=4\n",
    "dictys_helper makefile_update.py $code_dir/makefiles/config.mk '{\"ENVMODE\": \"none\", \"NTH\": \"4\", \"DEVICE\": \"cuda:0\", \"GENOME_MACS2\": \"hs\", \"JOINT\": \"1\"}'\n"
   ]
  },
  {
   "cell_type": "code",
   "execution_count": 1,
   "metadata": {},
   "outputs": [
    {
     "name": "stdout",
     "output_type": "stream",
     "text": [
      "# Lingfei Wang, 2022. All rights reserved.\n",
      "#This file contains parameters for whole run and individual steps to be edited for your dataset\n",
      "#This file should be edited to configure the run\n",
      "#This file should NOT be directly used for any run with `makefile -f` \n",
      "\n",
      "############################################################\n",
      "# Run environment settings\n",
      "############################################################\n",
      "#Which environment to use, corresponding to env_$(ENVMODE).mk file\n",
      "ENVMODE=none\n",
      "#Maximum number of CPU threads for each job\n",
      "#This is only nominated and passed through to other softwares without any guarantee.\n",
      "NTH=4\n",
      "#Device name for pyro/pytorch\n",
      "#Note: cuda devices other than cuda:0 could be incompatible with singularity environment\n",
      "DEVICE=cuda:0\n",
      "\n",
      "############################################################\n",
      "# Dataset settings\n",
      "############################################################\n",
      "\n",
      "#Genome size for Macs2, accept shortcuts like mm & hs\n",
      "GENOME_MACS2=hs\n",
      "#Whether dataset is joint profiling of RNA & ATAC of same cell. Separate measurements of two modalities in different cells: 0. Joint measurements: 1.\n",
      "JOINT=1\n",
      "\n",
      "#######################################################################################\n",
      "# Parameters of individual steps shared by cell-type specific and dynamic GRN inference\n",
      "#######################################################################################\n",
      "\n",
      "PARAMS-PREPROC-QC_READS:=50 10 0 200 100 0\n",
      "PARAMS-CHROMATIN-MACS2:=$(GENOME_MACS2)\n",
      "PARAMS-CHROMATIN-BINLINKING:=20\n",
      "KPARAMS-PREPROC-SELECTSC_RNA:=\n",
      "KPARAMS-PREPROC-QC_READS:=\n",
      "KPARAMS-PREPROC-SELECTSC_ATAC:=\n",
      "KPARAMS-CHROMATIN-MACS2:=--nth $(NTH)\n",
      "KPARAMS-CHROMATIN-WELLINGTON:=--nth $(NTH)\n",
      "KPARAMS-CHROMATIN-HOMER:=--nth $(NTH)\n",
      "KPARAMS-CHROMATIN-BINDING:=\n",
      "KPARAMS-CHROMATIN-TSSDIST:=\n",
      "KPARAMS-CHROMATIN-LINKING:=\n",
      "KPARAMS-CHROMATIN-BINLINKING:=\n",
      "KPARAMS-NETWORK-RECONSTRUCT:=--device $(DEVICE) --nth $(NTH)\n",
      "KPARAMS-NETWORK-INDIRECT:=--nth $(NTH)\n",
      "KPARAMS-NETWORK-NORMALIZE:=--nth $(NTH)\n",
      "KPARAMS-NETWORK-TOFILE:=$(KPARAMS-NETWORK-TOFILE_EXTRA)\n",
      "\n",
      "#######################################################################################\n",
      "# Parameters of individual steps only in dynamic GRN inference\n",
      "#######################################################################################\n",
      "\n",
      "PARAMS-DYNAMIC-SUBSETS_RNA=1000 875 0.05\n",
      "PARAMS-DYNAMIC-SUBSETS_ATAC=$(firstword $(PARAMS-DYNAMIC-SUBSETS_RNA))\n"
     ]
    }
   ],
   "source": [
    "!cat /ocean/projects/cis240075p/asachan/bio_informatics_analysis/multiome_B_Cell_analysis/B_Cell_analysis_code/method_runs/dictys_runs/makefiles/config.mk"
   ]
  },
  {
   "cell_type": "code",
   "execution_count": 20,
   "metadata": {},
   "outputs": [
    {
     "name": "stdout",
     "output_type": "stream",
     "text": [
      "Joint profile: True\n",
      "Found 35420 cells with RNA profile\n",
      "Found 24036 genes with RNA profile\n",
      "Found 35420 cells with ATAC profile\n",
      "Found 769 motifs\n",
      "Found 678 TFs\n",
      "Found 461 TFs in current dataset\n",
      "Missing 217 TFs in current dataset: ANDR,AP2A,AP2B,AP2C,AP2D,ARI3A,ARI5B,ATF6A,BARH1,BARH2,BC11A,BHA15,BHE22,BHE23,BHE40,BHE41,BMAL1,BRAC,BSH,COE1,COT1,COT2,CR3L1,CR3L2,ERR1,ERR2,ERR3,EVI1,GCR,HEN1,HMBX1,HME1,HME2,HNF6,HTF4,HXA1,HXA10,HXA11,HXA13,HXA2,HXA5,HXA7,HXA9,HXB1,HXB13,HXB2,HXB3,HXB4,HXB6,HXB7,HXB8,HXC10,HXC11,HXC12,HXC13,HXC6,HXC8,HXC9,HXD10,HXD11,HXD12,HXD13,HXD3,HXD4,HXD8,HXD9,ITF2,KAISO,MCR,MGAP,MLXPL,MYBA,MYBB,NDF1,NDF2,NF2L1,NF2L2,NFAC1,NFAC2,NFAC3,NFAC4,NGN2,NKX21,NKX22,NKX23,NKX25,NKX28,NKX31,NKX32,NKX61,NKX62,ONEC2,ONEC3,OZF,P53,P5F1B,P63,P73,PEBB,PHX2A,PHX2B,PIT1,PKNX1,PLAL1,PO2F1,PO2F2,PO2F3,PO3F1,PO3F2,PO3F3,PO3F4,PO4F1,PO4F2,PO4F3,PO5F1,PO6F1,PO6F2,PRD14,PRGR,RHXF1,RORG,RX,SMCA1,SMCA5,SRBP1,SRBP2,STA5A,STA5B,STF1,SUH,TF2LX,TF65,TF7L1,TF7L2,TFE2,THA,THA11,THB,TWST1,TYY1,TYY2,UBIP1,UNC4,Z324A,Z354A,ZBT14,ZBT17,ZBT18,ZBT48,ZBT49,ZBT7A,ZBT7B,ZEP1,ZEP2,ZF64A,ZKSC1,ZKSC3,ZN121,ZN134,ZN136,ZN140,ZN143,ZN148,ZN214,ZN219,ZN232,ZN250,ZN257,ZN260,ZN263,ZN264,ZN274,ZN281,ZN282,ZN317,ZN320,ZN322,ZN329,ZN331,ZN333,ZN335,ZN341,ZN350,ZN382,ZN384,ZN394,ZN410,ZN418,ZN423,ZN436,ZN449,ZN467,ZN490,ZN502,ZN524,ZN528,ZN547,ZN549,ZN554,ZN563,ZN582,ZN586,ZN589,ZN652,ZN667,ZN680,ZN708,ZN713,ZN740,ZN768,ZN770,ZN784,ZN816,ZSC16,ZSC22,ZSC31,ZSCA4\n",
      "Found 23533 genes with TSS information\n"
     ]
    },
    {
     "name": "stderr",
     "output_type": "stream",
     "text": [
      "WARNING:root:Chromosomes not found in reference genome: chrGL000194.1,chrMT\n",
      "WARNING:root:Cannot find dynamic.mk or traj_node.h5. Skipping dynamic network inference checks.\n"
     ]
    }
   ],
   "source": [
    "%%bash\n",
    "#run checks on dataset and makefiles\n",
    "data=\"/ocean/projects/cis240075p/asachan/datasets/B_Cell/multiome_1st_donor_UPMC_aggr/dictys_outs/data\"\n",
    "makefiles=\"/ocean/projects/cis240075p/asachan/bio_informatics_analysis/multiome_B_Cell_analysis/B_Cell_analysis_code/method_runs/dictys_runs/makefiles\"\n",
    "\n",
    "dictys_helper makefile_check.py --dir_data $data --dir_makefiles $makefiles"
   ]
  },
  {
   "cell_type": "markdown",
   "metadata": {},
   "source": [
    "#### debugging cell-matching"
   ]
  },
  {
   "cell_type": "code",
   "execution_count": 3,
   "metadata": {},
   "outputs": [
    {
     "name": "stderr",
     "output_type": "stream",
     "text": [
      "Executing: cp -- /ocean/projects/cis240075p/asachan/datasets/B_Cell/multiome_1st_donor_UPMC_aggr/dictys_outs/data/expression.tsv.gz /dev/shm\n"
     ]
    }
   ],
   "source": [
    "%%bash\n",
    "psc_path=\"/ocean/projects/cis240075p/asachan/datasets/B_Cell/multiome_1st_donor_UPMC_aggr/dictys_outs/data/expression.tsv.gz\"\n",
    "LOCAL_PATH=\"/dev/shm\"\n",
    "\n",
    "# Transfer with progress and verbose output\n",
    "scp -v -C $psc_path $LOCAL_PATH"
   ]
  },
  {
   "cell_type": "code",
   "execution_count": 7,
   "metadata": {},
   "outputs": [],
   "source": [
    "import pandas as pd\n",
    "# load the expression matrix\n",
    "expression_mtx = pd.read_csv('/dev/shm/expression.tsv', sep='\\t', index_col=0)"
   ]
  },
  {
   "cell_type": "code",
   "execution_count": 8,
   "metadata": {},
   "outputs": [
    {
     "data": {
      "text/plain": [
       "(24036, 35420)"
      ]
     },
     "execution_count": 8,
     "metadata": {},
     "output_type": "execute_result"
    }
   ],
   "source": [
    "#print the number of cells and genes\n",
    "expression_mtx.shape"
   ]
  },
  {
   "cell_type": "code",
   "execution_count": 9,
   "metadata": {},
   "outputs": [
    {
     "data": {
      "text/html": [
       "<div>\n",
       "<style scoped>\n",
       "    .dataframe tbody tr th:only-of-type {\n",
       "        vertical-align: middle;\n",
       "    }\n",
       "\n",
       "    .dataframe tbody tr th {\n",
       "        vertical-align: top;\n",
       "    }\n",
       "\n",
       "    .dataframe thead th {\n",
       "        text-align: right;\n",
       "    }\n",
       "</style>\n",
       "<table border=\"1\" class=\"dataframe\">\n",
       "  <thead>\n",
       "    <tr style=\"text-align: right;\">\n",
       "      <th></th>\n",
       "      <th>AAACAGCCAAACCTTG-1</th>\n",
       "      <th>AAACAGCCAAAGCTAA-1</th>\n",
       "      <th>AAACAGCCAAGCCACT-1</th>\n",
       "      <th>AAACAGCCAAGGTGCA-1</th>\n",
       "      <th>AAACAGCCAAGTTATC-1</th>\n",
       "      <th>AAACAGCCAATAGCCC-1</th>\n",
       "      <th>AAACAGCCAATTATGC-1</th>\n",
       "      <th>AAACAGCCAGTTAGCC-1</th>\n",
       "      <th>AAACAGCCATAATCCG-1</th>\n",
       "      <th>AAACAGCCATTCAGCA-1</th>\n",
       "      <th>...</th>\n",
       "      <th>TTTGTTGGTGTTGCAA-1</th>\n",
       "      <th>TTTGTTGGTTAAGGTT-1</th>\n",
       "      <th>TTTGTTGGTTAGCGTA-1</th>\n",
       "      <th>TTTGTTGGTTATCCGT-1</th>\n",
       "      <th>TTTGTTGGTTGACTTC-1</th>\n",
       "      <th>TTTGTTGGTTTACGTC-1</th>\n",
       "      <th>TTTGTTGGTTTAGTCC-1</th>\n",
       "      <th>TTTGTTGGTTTATGGG-1</th>\n",
       "      <th>TTTGTTGGTTTCCTCC-1</th>\n",
       "      <th>TTTGTTGGTTTGAGGC-1</th>\n",
       "    </tr>\n",
       "  </thead>\n",
       "  <tbody>\n",
       "    <tr>\n",
       "      <th>A1BG</th>\n",
       "      <td>0</td>\n",
       "      <td>0</td>\n",
       "      <td>0</td>\n",
       "      <td>0</td>\n",
       "      <td>0</td>\n",
       "      <td>0</td>\n",
       "      <td>0</td>\n",
       "      <td>0</td>\n",
       "      <td>0</td>\n",
       "      <td>0</td>\n",
       "      <td>...</td>\n",
       "      <td>0</td>\n",
       "      <td>0</td>\n",
       "      <td>0</td>\n",
       "      <td>1</td>\n",
       "      <td>0</td>\n",
       "      <td>0</td>\n",
       "      <td>0</td>\n",
       "      <td>0</td>\n",
       "      <td>0</td>\n",
       "      <td>0</td>\n",
       "    </tr>\n",
       "    <tr>\n",
       "      <th>A1BG-AS1</th>\n",
       "      <td>0</td>\n",
       "      <td>0</td>\n",
       "      <td>0</td>\n",
       "      <td>0</td>\n",
       "      <td>0</td>\n",
       "      <td>0</td>\n",
       "      <td>0</td>\n",
       "      <td>0</td>\n",
       "      <td>0</td>\n",
       "      <td>0</td>\n",
       "      <td>...</td>\n",
       "      <td>0</td>\n",
       "      <td>0</td>\n",
       "      <td>0</td>\n",
       "      <td>0</td>\n",
       "      <td>0</td>\n",
       "      <td>0</td>\n",
       "      <td>0</td>\n",
       "      <td>0</td>\n",
       "      <td>0</td>\n",
       "      <td>0</td>\n",
       "    </tr>\n",
       "    <tr>\n",
       "      <th>A1CF</th>\n",
       "      <td>0</td>\n",
       "      <td>0</td>\n",
       "      <td>0</td>\n",
       "      <td>0</td>\n",
       "      <td>0</td>\n",
       "      <td>0</td>\n",
       "      <td>0</td>\n",
       "      <td>0</td>\n",
       "      <td>0</td>\n",
       "      <td>0</td>\n",
       "      <td>...</td>\n",
       "      <td>0</td>\n",
       "      <td>0</td>\n",
       "      <td>0</td>\n",
       "      <td>0</td>\n",
       "      <td>0</td>\n",
       "      <td>0</td>\n",
       "      <td>0</td>\n",
       "      <td>0</td>\n",
       "      <td>0</td>\n",
       "      <td>0</td>\n",
       "    </tr>\n",
       "    <tr>\n",
       "      <th>A2M</th>\n",
       "      <td>0</td>\n",
       "      <td>0</td>\n",
       "      <td>0</td>\n",
       "      <td>0</td>\n",
       "      <td>0</td>\n",
       "      <td>0</td>\n",
       "      <td>0</td>\n",
       "      <td>0</td>\n",
       "      <td>0</td>\n",
       "      <td>0</td>\n",
       "      <td>...</td>\n",
       "      <td>0</td>\n",
       "      <td>0</td>\n",
       "      <td>0</td>\n",
       "      <td>0</td>\n",
       "      <td>0</td>\n",
       "      <td>0</td>\n",
       "      <td>0</td>\n",
       "      <td>0</td>\n",
       "      <td>0</td>\n",
       "      <td>0</td>\n",
       "    </tr>\n",
       "    <tr>\n",
       "      <th>A2M-AS1</th>\n",
       "      <td>0</td>\n",
       "      <td>0</td>\n",
       "      <td>0</td>\n",
       "      <td>0</td>\n",
       "      <td>0</td>\n",
       "      <td>0</td>\n",
       "      <td>0</td>\n",
       "      <td>0</td>\n",
       "      <td>0</td>\n",
       "      <td>0</td>\n",
       "      <td>...</td>\n",
       "      <td>0</td>\n",
       "      <td>0</td>\n",
       "      <td>0</td>\n",
       "      <td>0</td>\n",
       "      <td>0</td>\n",
       "      <td>0</td>\n",
       "      <td>0</td>\n",
       "      <td>0</td>\n",
       "      <td>0</td>\n",
       "      <td>0</td>\n",
       "    </tr>\n",
       "  </tbody>\n",
       "</table>\n",
       "<p>5 rows × 35420 columns</p>\n",
       "</div>"
      ],
      "text/plain": [
       "          AAACAGCCAAACCTTG-1  AAACAGCCAAAGCTAA-1  AAACAGCCAAGCCACT-1  \\\n",
       "A1BG                       0                   0                   0   \n",
       "A1BG-AS1                   0                   0                   0   \n",
       "A1CF                       0                   0                   0   \n",
       "A2M                        0                   0                   0   \n",
       "A2M-AS1                    0                   0                   0   \n",
       "\n",
       "          AAACAGCCAAGGTGCA-1  AAACAGCCAAGTTATC-1  AAACAGCCAATAGCCC-1  \\\n",
       "A1BG                       0                   0                   0   \n",
       "A1BG-AS1                   0                   0                   0   \n",
       "A1CF                       0                   0                   0   \n",
       "A2M                        0                   0                   0   \n",
       "A2M-AS1                    0                   0                   0   \n",
       "\n",
       "          AAACAGCCAATTATGC-1  AAACAGCCAGTTAGCC-1  AAACAGCCATAATCCG-1  \\\n",
       "A1BG                       0                   0                   0   \n",
       "A1BG-AS1                   0                   0                   0   \n",
       "A1CF                       0                   0                   0   \n",
       "A2M                        0                   0                   0   \n",
       "A2M-AS1                    0                   0                   0   \n",
       "\n",
       "          AAACAGCCATTCAGCA-1  ...  TTTGTTGGTGTTGCAA-1  TTTGTTGGTTAAGGTT-1  \\\n",
       "A1BG                       0  ...                   0                   0   \n",
       "A1BG-AS1                   0  ...                   0                   0   \n",
       "A1CF                       0  ...                   0                   0   \n",
       "A2M                        0  ...                   0                   0   \n",
       "A2M-AS1                    0  ...                   0                   0   \n",
       "\n",
       "          TTTGTTGGTTAGCGTA-1  TTTGTTGGTTATCCGT-1  TTTGTTGGTTGACTTC-1  \\\n",
       "A1BG                       0                   1                   0   \n",
       "A1BG-AS1                   0                   0                   0   \n",
       "A1CF                       0                   0                   0   \n",
       "A2M                        0                   0                   0   \n",
       "A2M-AS1                    0                   0                   0   \n",
       "\n",
       "          TTTGTTGGTTTACGTC-1  TTTGTTGGTTTAGTCC-1  TTTGTTGGTTTATGGG-1  \\\n",
       "A1BG                       0                   0                   0   \n",
       "A1BG-AS1                   0                   0                   0   \n",
       "A1CF                       0                   0                   0   \n",
       "A2M                        0                   0                   0   \n",
       "A2M-AS1                    0                   0                   0   \n",
       "\n",
       "          TTTGTTGGTTTCCTCC-1  TTTGTTGGTTTGAGGC-1  \n",
       "A1BG                       0                   0  \n",
       "A1BG-AS1                   0                   0  \n",
       "A1CF                       0                   0  \n",
       "A2M                        0                   0  \n",
       "A2M-AS1                    0                   0  \n",
       "\n",
       "[5 rows x 35420 columns]"
      ]
     },
     "execution_count": 9,
     "metadata": {},
     "output_type": "execute_result"
    }
   ],
   "source": [
    "# inspect the expression matrix\n",
    "expression_mtx.head()"
   ]
  },
  {
   "cell_type": "markdown",
   "metadata": {},
   "source": [
    "#### Infer static GRNs"
   ]
  },
  {
   "cell_type": "markdown",
   "metadata": {},
   "source": [
    "#### set makefile input/output directories right\n",
    "steps in full tutorial are - \n",
    "1. make static.mk runs a bunch of i/o and scripts in this order: \n",
    "    * python3 -m dictys preproc selects_rna + preproc qc_reads + preproc selects_atac {combines cell bams to cell-type bams}\n",
    "    * python3 -m dictys chromatin macs2 {find peaks from atac data using macs2}\n",
    "    * python3 -m dictys chromatin wellington {TF footprinting with wellington and pyDNASE}\n",
    "    * python3 -m dictys chromatin homer {scan the detected regions (peaks/footprints both) for TF motifs using homer}\n",
    "    * python3 -m dictys chromatin binding {get binding score of the TF after region detection and scanning}\n",
    "    * python3 -m dictys chromatin tssdist {TSS and nearby 1-d distance filtering of regions for getting more proabable regulatory bins - }\n",
    "    * Get GRN TF-gene links:\n",
    "        python3 -m dictys chromatin linking {(TF --- motif > scanning peaks and getting binding score > try to add alphafold binding predictions too) --- region (1-D proximity peak-peak correlation might give the promoters) --- gene > gtf} can use HiC info too at this step to get 3D peak-peak correlations by using their contact probability as pass the hic found genomic regions as whitelist.bed !!!\n",
    "        python3 -m dictys chromatin binlinking {constraining the TF-gene links using ranking and then thresholding for top n ranked TFs or genes}\n",
    "\n",
    "2. Re-run static.mk to reconstruct the GRN with refined edges from RNA-seq data\n",
    "    * python3 -m dictys network reconstruct -h {use pytorch to infer the GRN with stochastic process model under the TF binding network constraint}\n",
    "    * python3 -m dictys network normalize -h {normalize network edges based on the standard deviation of regulator and target genes. This can overcome biases in the estimation of variance of gene expression due to single-cell sparsity}\n",
    "    * python3 -m dictys network indirect -h {}\n",
    "\n",
    "****** python3 -m dictys network indirect -h\n",
    ">>>>>> Computes steady-state indirect effect of gene perturbation from OU process.\n",
    "Performs extra regularization on network by bounding the eigenvalues of\n",
    "feedback loops with parameters eigmin and eigmax. Values away from 1 indicates\n",
    "stronger feedback loop effects. Set values closer to 1 to apply stronger\n",
    "regularization.\n",
    "The total effect network is **not yet integrated into network analysis functions**. (can't be plotted or analysed, but network can be constructed for modeling TF perturbations !!!!)"
   ]
  },
  {
   "cell_type": "code",
   "execution_count": 2,
   "metadata": {},
   "outputs": [],
   "source": [
    "# Removes CPU usage limit by some jupyter versions\n",
    "import os\n",
    "os.environ['KMP_AFFINITY'] = ''\n"
   ]
  },
  {
   "cell_type": "code",
   "execution_count": 3,
   "metadata": {},
   "outputs": [],
   "source": [
    "# Define the data and code dirs\n",
    "import os\n",
    "import shutil\n",
    "\n",
    "code_dir=\"/ocean/projects/cis240075p/asachan/bio_informatics_analysis/multiome_B_Cell_analysis/B_Cell_analysis_code/method_runs/dictys_runs\"\n",
    "\n",
    "DIRI=\"/ocean/projects/cis240075p/asachan/datasets/B_Cell/multiome_1st_donor_UPMC_aggr/dictys_outs/data\"        # input data directory\n",
    "DIRO=\"/ocean/projects/cis240075p/asachan/datasets/B_Cell/multiome_1st_donor_UPMC_aggr/dictys_outs\"     # output data directory\n",
    "DIRT=\"/ocean/projects/cis240075p/asachan/datasets/B_Cell/multiome_1st_donor_UPMC_aggr/dictys_outs/tmp_static\"    # temporary input directory \n",
    "DIRTI = DIRT\n",
    "DIRTO = DIRT\n",
    "FILE_SUBSET = os.path.join(DIRI, \"subsets.txt\")  # File for cell subsets\n",
    "TMPDIR = \"/local\"       # Temporary folder\n",
    "\n",
    "# Load the subset names from subsets.txt\n",
    "with open(FILE_SUBSET, 'r') as file:\n",
    "    subsets = [line.strip() for line in file if line.strip()]\n",
    "\n",
    "# Ensure the output directory exists\n",
    "os.makedirs(DIRTO, exist_ok=True)\n",
    "\n",
    "# JOINT variable as per config.mk (assumed value here)\n",
    "JOINT = 1  # Change this value according to your configuration"
   ]
  },
  {
   "cell_type": "code",
   "execution_count": 4,
   "metadata": {},
   "outputs": [
    {
     "name": "stdout",
     "output_type": "stream",
     "text": [
      "All subsets processed successfully.\n"
     ]
    }
   ],
   "source": [
    "# Process each subset\n",
    "for subset in subsets:\n",
    "    # Define paths for names_rna.txt and names_atac0.txt\n",
    "    names_rna_src = os.path.join(DIRI, \"subsets\", subset, \"names_rna.txt\")\n",
    "    names_rna_dest = os.path.join(DIRTO, subset, \"names_rna.txt\")\n",
    "\n",
    "    # Ensure destination directory exists\n",
    "    os.makedirs(os.path.dirname(names_rna_dest), exist_ok=True)\n",
    "\n",
    "    # Copy names_rna.txt\n",
    "    shutil.copy(names_rna_src, names_rna_dest)\n",
    "\n",
    "    if JOINT == 1:\n",
    "        # If JOINT is 1, copy names_rna.txt to names_atac0.txt in DIRTO\n",
    "        names_atac0_dest = os.path.join(DIRTO, subset, \"names_atac0.txt\")\n",
    "        shutil.copy(names_rna_dest, names_atac0_dest)\n",
    "    else:\n",
    "        # If JOINT is not 1, copy names_atac.txt from DIRI/subsets to DIRTO\n",
    "        names_atac_src = os.path.join(DIRI, \"subsets\", subset, \"names_atac.txt\")\n",
    "        names_atac_dest = os.path.join(DIRTO, subset, \"names_atac0.txt\")\n",
    "\n",
    "        # Ensure destination directory exists\n",
    "        os.makedirs(os.path.dirname(names_atac_dest), exist_ok=True)\n",
    "\n",
    "        shutil.copy(names_atac_src, names_atac_dest)\n",
    "\n",
    "print(\"All subsets processed successfully.\")"
   ]
  },
  {
   "cell_type": "markdown",
   "metadata": {},
   "source": [
    "## Getting TF-gene links from chromatin priors"
   ]
  },
  {
   "cell_type": "markdown",
   "metadata": {},
   "source": [
    "#### CPU : preprocess select_rna: subsets the RNA data separately for cells of each context/cell type."
   ]
  },
  {
   "cell_type": "code",
   "execution_count": 5,
   "metadata": {},
   "outputs": [],
   "source": [
    "import os\n",
    "import subprocess\n",
    "from concurrent.futures import ProcessPoolExecutor\n",
    "\n",
    "# Function to run the command for a single subset\n",
    "def process_subset(subset):\n",
    "    try:\n",
    "        # Define paths\n",
    "        names_rna_path = os.path.join(DIRTI, subset, \"names_rna.txt\")\n",
    "        expression0_path = os.path.join(DIRTI, subset, \"expression0.tsv.gz\")\n",
    "\n",
    "        # Build the command\n",
    "        command = [\n",
    "            \"python3\", \"-m\", \"dictys\", \"preproc\", \"selects_rna\",\n",
    "            os.path.join(DIRI, \"expression.tsv.gz\"),\n",
    "            names_rna_path,\n",
    "            expression0_path\n",
    "        ]\n",
    "\n",
    "        # Run the command\n",
    "        print(f\"Running command for subset {subset}: {' '.join(command)}\")\n",
    "        subprocess.run(command, check=True)\n",
    "        print(f\"Finished processing subset {subset}\")\n",
    "    except subprocess.CalledProcessError as e:\n",
    "        print(f\"Error processing subset {subset}: {e}\")\n",
    "    except Exception as e:\n",
    "        print(f\"Unexpected error processing subset {subset}: {e}\")\n",
    "\n"
   ]
  },
  {
   "cell_type": "code",
   "execution_count": 6,
   "metadata": {},
   "outputs": [
    {
     "name": "stdout",
     "output_type": "stream",
     "text": [
      "Running command for subset Subset0: python3 -m dictys preproc selects_rna /ocean/projects/cis240075p/asachan/datasets/B_Cell/multiome_1st_donor_UPMC_aggr/dictys_outs/data/expression.tsv.gz /ocean/projects/cis240075p/asachan/datasets/B_Cell/multiome_1st_donor_UPMC_aggr/dictys_outs/tmp_static/Subset0/names_rna.txt /ocean/projects/cis240075p/asachan/datasets/B_Cell/multiome_1st_donor_UPMC_aggr/dictys_outs/tmp_static/Subset0/expression0.tsv.gzRunning command for subset Subset2: python3 -m dictys preproc selects_rna /ocean/projects/cis240075p/asachan/datasets/B_Cell/multiome_1st_donor_UPMC_aggr/dictys_outs/data/expression.tsv.gz /ocean/projects/cis240075p/asachan/datasets/B_Cell/multiome_1st_donor_UPMC_aggr/dictys_outs/tmp_static/Subset2/names_rna.txt /ocean/projects/cis240075p/asachan/datasets/B_Cell/multiome_1st_donor_UPMC_aggr/dictys_outs/tmp_static/Subset2/expression0.tsv.gzRunning command for subset Subset1: python3 -m dictys preproc selects_rna /ocean/projects/cis240075p/asachan/datasets/B_Cell/multiome_1st_donor_UPMC_aggr/dictys_outs/data/expression.tsv.gz /ocean/projects/cis240075p/asachan/datasets/B_Cell/multiome_1st_donor_UPMC_aggr/dictys_outs/tmp_static/Subset1/names_rna.txt /ocean/projects/cis240075p/asachan/datasets/B_Cell/multiome_1st_donor_UPMC_aggr/dictys_outs/tmp_static/Subset1/expression0.tsv.gzRunning command for subset Subset7: python3 -m dictys preproc selects_rna /ocean/projects/cis240075p/asachan/datasets/B_Cell/multiome_1st_donor_UPMC_aggr/dictys_outs/data/expression.tsv.gz /ocean/projects/cis240075p/asachan/datasets/B_Cell/multiome_1st_donor_UPMC_aggr/dictys_outs/tmp_static/Subset7/names_rna.txt /ocean/projects/cis240075p/asachan/datasets/B_Cell/multiome_1st_donor_UPMC_aggr/dictys_outs/tmp_static/Subset7/expression0.tsv.gzRunning command for subset Subset5: python3 -m dictys preproc selects_rna /ocean/projects/cis240075p/asachan/datasets/B_Cell/multiome_1st_donor_UPMC_aggr/dictys_outs/data/expression.tsv.gz /ocean/projects/cis240075p/asachan/datasets/B_Cell/multiome_1st_donor_UPMC_aggr/dictys_outs/tmp_static/Subset5/names_rna.txt /ocean/projects/cis240075p/asachan/datasets/B_Cell/multiome_1st_donor_UPMC_aggr/dictys_outs/tmp_static/Subset5/expression0.tsv.gzRunning command for subset Subset6: python3 -m dictys preproc selects_rna /ocean/projects/cis240075p/asachan/datasets/B_Cell/multiome_1st_donor_UPMC_aggr/dictys_outs/data/expression.tsv.gz /ocean/projects/cis240075p/asachan/datasets/B_Cell/multiome_1st_donor_UPMC_aggr/dictys_outs/tmp_static/Subset6/names_rna.txt /ocean/projects/cis240075p/asachan/datasets/B_Cell/multiome_1st_donor_UPMC_aggr/dictys_outs/tmp_static/Subset6/expression0.tsv.gz\n",
      "Running command for subset Subset4: python3 -m dictys preproc selects_rna /ocean/projects/cis240075p/asachan/datasets/B_Cell/multiome_1st_donor_UPMC_aggr/dictys_outs/data/expression.tsv.gz /ocean/projects/cis240075p/asachan/datasets/B_Cell/multiome_1st_donor_UPMC_aggr/dictys_outs/tmp_static/Subset4/names_rna.txt /ocean/projects/cis240075p/asachan/datasets/B_Cell/multiome_1st_donor_UPMC_aggr/dictys_outs/tmp_static/Subset4/expression0.tsv.gzRunning command for subset Subset8: python3 -m dictys preproc selects_rna /ocean/projects/cis240075p/asachan/datasets/B_Cell/multiome_1st_donor_UPMC_aggr/dictys_outs/data/expression.tsv.gz /ocean/projects/cis240075p/asachan/datasets/B_Cell/multiome_1st_donor_UPMC_aggr/dictys_outs/tmp_static/Subset8/names_rna.txt /ocean/projects/cis240075p/asachan/datasets/B_Cell/multiome_1st_donor_UPMC_aggr/dictys_outs/tmp_static/Subset8/expression0.tsv.gzRunning command for subset Subset3: python3 -m dictys preproc selects_rna /ocean/projects/cis240075p/asachan/datasets/B_Cell/multiome_1st_donor_UPMC_aggr/dictys_outs/data/expression.tsv.gz /ocean/projects/cis240075p/asachan/datasets/B_Cell/multiome_1st_donor_UPMC_aggr/dictys_outs/tmp_static/Subset3/names_rna.txt /ocean/projects/cis240075p/asachan/datasets/B_Cell/multiome_1st_donor_UPMC_aggr/dictys_outs/tmp_static/Subset3/expression0.tsv.gzRunning command for subset Subset9: python3 -m dictys preproc selects_rna /ocean/projects/cis240075p/asachan/datasets/B_Cell/multiome_1st_donor_UPMC_aggr/dictys_outs/data/expression.tsv.gz /ocean/projects/cis240075p/asachan/datasets/B_Cell/multiome_1st_donor_UPMC_aggr/dictys_outs/tmp_static/Subset9/names_rna.txt /ocean/projects/cis240075p/asachan/datasets/B_Cell/multiome_1st_donor_UPMC_aggr/dictys_outs/tmp_static/Subset9/expression0.tsv.gz\n",
      "\n",
      "\n",
      "\n",
      "\n",
      "\n",
      "\n",
      "\n",
      "\n",
      "Finished processing subset Subset8\n",
      "Finished processing subset Subset9\n",
      "Finished processing subset Subset4\n",
      "Finished processing subset Subset3\n",
      "Finished processing subset Subset7\n",
      "Finished processing subset Subset2\n",
      "Finished processing subset Subset6\n",
      "Finished processing subset Subset5\n",
      "Finished processing subset Subset0\n",
      "Finished processing subset Subset1\n",
      "All subsets processed successfully.\n"
     ]
    }
   ],
   "source": [
    "# Number of workers (cores) to use\n",
    "num_workers = 128\n",
    "\n",
    "# Use ProcessPoolExecutor to run multiple jobs in parallel\n",
    "with ProcessPoolExecutor(max_workers=num_workers) as executor:\n",
    "    # Map the subsets to the process_subset function\n",
    "    executor.map(process_subset, subsets)\n",
    "\n",
    "print(\"All subsets processed successfully.\")"
   ]
  },
  {
   "cell_type": "markdown",
   "metadata": {},
   "source": [
    "#### CPU : preprocess qc_reads : removes low-read genes and cells for cell-type specific quality control "
   ]
  },
  {
   "cell_type": "code",
   "execution_count": null,
   "metadata": {},
   "outputs": [],
   "source": [
    "################################################################## QC parameters to tune based on the dataset ########################################################\n",
    "n_gene = 50 #min total read depth per gene\n",
    "nc_gene = 10 #min number of cells expressed per gene\n",
    "ncp_gene = 0 #min number of cells expressed per gene in percentage\n",
    "n_cell = 200 #min total coverage per cell\n",
    "nt_cell = 100 #min number of genes expressed per cell\n",
    "ntp_cell = 0 #min number of genes expressed per cell in percentage"
   ]
  },
  {
   "cell_type": "code",
   "execution_count": 7,
   "metadata": {},
   "outputs": [],
   "source": [
    "# Function to run the qc_reads command for a single subset\n",
    "def process_qc_reads(subset):\n",
    "    try:\n",
    "        # Define paths\n",
    "        expression0_path = os.path.join(DIRTI, subset, \"expression0.tsv.gz\")\n",
    "        expression_path = os.path.join(DIRTI, subset, \"expression.tsv.gz\")\n",
    "\n",
    "        # Build the command\n",
    "        command = [\n",
    "            \"python3\", \"-m\", \"dictys\", \"preproc\", \"qc_reads\",\n",
    "            expression0_path,\n",
    "            expression_path,\n",
    "            str(n_gene), str(nc_gene), str(ncp_gene),\n",
    "            str(n_cell), str(nt_cell), str(ntp_cell)\n",
    "        ]\n",
    "\n",
    "        # Run the command\n",
    "        print(f\"Running command for subset {subset}: {' '.join(command)}\")\n",
    "        subprocess.run(command, check=True)\n",
    "        print(f\"Finished processing subset {subset}\")\n",
    "    except subprocess.CalledProcessError as e:\n",
    "        print(f\"Error processing subset {subset}: {e}\")\n",
    "    except Exception as e:\n",
    "        print(f\"Unexpected error processing subset {subset}: {e}\")"
   ]
  },
  {
   "cell_type": "code",
   "execution_count": 8,
   "metadata": {},
   "outputs": [
    {
     "name": "stdout",
     "output_type": "stream",
     "text": [
      "Running command for subset Subset0: python3 -m dictys preproc qc_reads /ocean/projects/cis240075p/asachan/datasets/B_Cell/multiome_1st_donor_UPMC_aggr/dictys_outs/tmp_static/Subset0/expression0.tsv.gz /ocean/projects/cis240075p/asachan/datasets/B_Cell/multiome_1st_donor_UPMC_aggr/dictys_outs/tmp_static/Subset0/expression.tsv.gz 50 10 0 200 100 0Running command for subset Subset5: python3 -m dictys preproc qc_reads /ocean/projects/cis240075p/asachan/datasets/B_Cell/multiome_1st_donor_UPMC_aggr/dictys_outs/tmp_static/Subset5/expression0.tsv.gz /ocean/projects/cis240075p/asachan/datasets/B_Cell/multiome_1st_donor_UPMC_aggr/dictys_outs/tmp_static/Subset5/expression.tsv.gz 50 10 0 200 100 0Running command for subset Subset2: python3 -m dictys preproc qc_reads /ocean/projects/cis240075p/asachan/datasets/B_Cell/multiome_1st_donor_UPMC_aggr/dictys_outs/tmp_static/Subset2/expression0.tsv.gz /ocean/projects/cis240075p/asachan/datasets/B_Cell/multiome_1st_donor_UPMC_aggr/dictys_outs/tmp_static/Subset2/expression.tsv.gz 50 10 0 200 100 0Running command for subset Subset1: python3 -m dictys preproc qc_reads /ocean/projects/cis240075p/asachan/datasets/B_Cell/multiome_1st_donor_UPMC_aggr/dictys_outs/tmp_static/Subset1/expression0.tsv.gz /ocean/projects/cis240075p/asachan/datasets/B_Cell/multiome_1st_donor_UPMC_aggr/dictys_outs/tmp_static/Subset1/expression.tsv.gz 50 10 0 200 100 0Running command for subset Subset4: python3 -m dictys preproc qc_reads /ocean/projects/cis240075p/asachan/datasets/B_Cell/multiome_1st_donor_UPMC_aggr/dictys_outs/tmp_static/Subset4/expression0.tsv.gz /ocean/projects/cis240075p/asachan/datasets/B_Cell/multiome_1st_donor_UPMC_aggr/dictys_outs/tmp_static/Subset4/expression.tsv.gz 50 10 0 200 100 0Running command for subset Subset7: python3 -m dictys preproc qc_reads /ocean/projects/cis240075p/asachan/datasets/B_Cell/multiome_1st_donor_UPMC_aggr/dictys_outs/tmp_static/Subset7/expression0.tsv.gz /ocean/projects/cis240075p/asachan/datasets/B_Cell/multiome_1st_donor_UPMC_aggr/dictys_outs/tmp_static/Subset7/expression.tsv.gz 50 10 0 200 100 0Running command for subset Subset3: python3 -m dictys preproc qc_reads /ocean/projects/cis240075p/asachan/datasets/B_Cell/multiome_1st_donor_UPMC_aggr/dictys_outs/tmp_static/Subset3/expression0.tsv.gz /ocean/projects/cis240075p/asachan/datasets/B_Cell/multiome_1st_donor_UPMC_aggr/dictys_outs/tmp_static/Subset3/expression.tsv.gz 50 10 0 200 100 0Running command for subset Subset6: python3 -m dictys preproc qc_reads /ocean/projects/cis240075p/asachan/datasets/B_Cell/multiome_1st_donor_UPMC_aggr/dictys_outs/tmp_static/Subset6/expression0.tsv.gz /ocean/projects/cis240075p/asachan/datasets/B_Cell/multiome_1st_donor_UPMC_aggr/dictys_outs/tmp_static/Subset6/expression.tsv.gz 50 10 0 200 100 0Running command for subset Subset8: python3 -m dictys preproc qc_reads /ocean/projects/cis240075p/asachan/datasets/B_Cell/multiome_1st_donor_UPMC_aggr/dictys_outs/tmp_static/Subset8/expression0.tsv.gz /ocean/projects/cis240075p/asachan/datasets/B_Cell/multiome_1st_donor_UPMC_aggr/dictys_outs/tmp_static/Subset8/expression.tsv.gz 50 10 0 200 100 0Running command for subset Subset9: python3 -m dictys preproc qc_reads /ocean/projects/cis240075p/asachan/datasets/B_Cell/multiome_1st_donor_UPMC_aggr/dictys_outs/tmp_static/Subset9/expression0.tsv.gz /ocean/projects/cis240075p/asachan/datasets/B_Cell/multiome_1st_donor_UPMC_aggr/dictys_outs/tmp_static/Subset9/expression.tsv.gz 50 10 0 200 100 0\n",
      "\n",
      "\n",
      "\n",
      "\n",
      "\n",
      "\n",
      "\n",
      "\n",
      "\n"
     ]
    },
    {
     "name": "stderr",
     "output_type": "stream",
     "text": [
      "Traceback (most recent call last):\n",
      "  File \"/ocean/projects/cis240075p/asachan/.conda/envs/dictys/lib/python3.9/runpy.py\", line 197, in _run_module_as_main\n",
      "    return _run_code(code, main_globals, None,\n",
      "  File \"/ocean/projects/cis240075p/asachan/.conda/envs/dictys/lib/python3.9/runpy.py\", line 87, in _run_code\n",
      "    exec(code, run_globals)\n",
      "  File \"/ocean/projects/cis240075p/asachan/.conda/envs/dictys/lib/python3.9/site-packages/dictys/__main__.py\", line 13, in <module>\n",
      "Traceback (most recent call last):\n",
      "  File \"/ocean/projects/cis240075p/asachan/.conda/envs/dictys/lib/python3.9/runpy.py\", line 197, in _run_module_as_main\n",
      "    return _run_code(code, main_globals, None,\n",
      "  File \"/ocean/projects/cis240075p/asachan/.conda/envs/dictys/lib/python3.9/runpy.py\", line 87, in _run_code\n",
      "    exec(code, run_globals)\n",
      "  File \"/ocean/projects/cis240075p/asachan/.conda/envs/dictys/lib/python3.9/site-packages/dictys/__main__.py\", line 13, in <module>\n",
      "Traceback (most recent call last):\n",
      "  File \"/ocean/projects/cis240075p/asachan/.conda/envs/dictys/lib/python3.9/runpy.py\", line 197, in _run_module_as_main\n",
      "    return _run_code(code, main_globals, None,\n",
      "  File \"/ocean/projects/cis240075p/asachan/.conda/envs/dictys/lib/python3.9/runpy.py\", line 87, in _run_code\n",
      "    exec(code, run_globals)\n",
      "  File \"/ocean/projects/cis240075p/asachan/.conda/envs/dictys/lib/python3.9/site-packages/dictys/__main__.py\", line 13, in <module>\n",
      "Traceback (most recent call last):\n",
      "  File \"/ocean/projects/cis240075p/asachan/.conda/envs/dictys/lib/python3.9/runpy.py\", line 197, in _run_module_as_main\n",
      "    return _run_code(code, main_globals, None,\n",
      "  File \"/ocean/projects/cis240075p/asachan/.conda/envs/dictys/lib/python3.9/runpy.py\", line 87, in _run_code\n",
      "    exec(code, run_globals)\n",
      "  File \"/ocean/projects/cis240075p/asachan/.conda/envs/dictys/lib/python3.9/site-packages/dictys/__main__.py\", line 13, in <module>\n",
      "Traceback (most recent call last):\n",
      "  File \"/ocean/projects/cis240075p/asachan/.conda/envs/dictys/lib/python3.9/runpy.py\", line 197, in _run_module_as_main\n",
      "    return _run_code(code, main_globals, None,\n",
      "  File \"/ocean/projects/cis240075p/asachan/.conda/envs/dictys/lib/python3.9/runpy.py\", line 87, in _run_code\n",
      "    exec(code, run_globals)\n",
      "  File \"/ocean/projects/cis240075p/asachan/.conda/envs/dictys/lib/python3.9/site-packages/dictys/__main__.py\", line 13, in <module>\n",
      "        docstringrunner(__package__)docstringrunner(__package__)\n",
      "\n",
      "  File \"/ocean/projects/cis240075p/asachan/.conda/envs/dictys/lib/python3.9/site-packages/docstring2argparse/__init__.py\", line 340, in docstringrunner\n",
      "  File \"/ocean/projects/cis240075p/asachan/.conda/envs/dictys/lib/python3.9/site-packages/docstring2argparse/__init__.py\", line 340, in docstringrunner\n",
      "    docstringrunner(__package__)\n",
      "      File \"/ocean/projects/cis240075p/asachan/.conda/envs/dictys/lib/python3.9/site-packages/docstring2argparse/__init__.py\", line 340, in docstringrunner\n",
      "docstringrunner(__package__)\n",
      "  File \"/ocean/projects/cis240075p/asachan/.conda/envs/dictys/lib/python3.9/site-packages/docstring2argparse/__init__.py\", line 340, in docstringrunner\n",
      "    docstringrunner(__package__)\n",
      "  File \"/ocean/projects/cis240075p/asachan/.conda/envs/dictys/lib/python3.9/site-packages/docstring2argparse/__init__.py\", line 340, in docstringrunner\n",
      "    run_args(pkgname,funcs,args)\n",
      "      File \"/ocean/projects/cis240075p/asachan/.conda/envs/dictys/lib/python3.9/site-packages/docstring2argparse/__init__.py\", line 330, in run_args\n",
      "run_args(pkgname,funcs,args)    \n",
      "run_args(pkgname,funcs,args)\n",
      "  File \"/ocean/projects/cis240075p/asachan/.conda/envs/dictys/lib/python3.9/site-packages/docstring2argparse/__init__.py\", line 330, in run_args\n",
      "  File \"/ocean/projects/cis240075p/asachan/.conda/envs/dictys/lib/python3.9/site-packages/docstring2argparse/__init__.py\", line 330, in run_args\n",
      "    run_args(pkgname,funcs,args)\n",
      "  File \"/ocean/projects/cis240075p/asachan/.conda/envs/dictys/lib/python3.9/site-packages/docstring2argparse/__init__.py\", line 330, in run_args\n",
      "    run_args(pkgname,funcs,args)\n",
      "  File \"/ocean/projects/cis240075p/asachan/.conda/envs/dictys/lib/python3.9/site-packages/docstring2argparse/__init__.py\", line 330, in run_args\n",
      "    return func(*a,**ka)\n",
      "  File \"/ocean/projects/cis240075p/asachan/.conda/envs/dictys/lib/python3.9/site-packages/dictys/preproc.py\", line 140, in qc_reads\n",
      "    return func(*a,**ka)    \n",
      "return func(*a,**ka)\n",
      "  File \"/ocean/projects/cis240075p/asachan/.conda/envs/dictys/lib/python3.9/site-packages/dictys/preproc.py\", line 140, in qc_reads\n",
      "  File \"/ocean/projects/cis240075p/asachan/.conda/envs/dictys/lib/python3.9/site-packages/dictys/preproc.py\", line 140, in qc_reads\n",
      "    return func(*a,**ka)\n",
      "  File \"/ocean/projects/cis240075p/asachan/.conda/envs/dictys/lib/python3.9/site-packages/dictys/preproc.py\", line 140, in qc_reads\n",
      "    return func(*a,**ka)\n",
      "  File \"/ocean/projects/cis240075p/asachan/.conda/envs/dictys/lib/python3.9/site-packages/dictys/preproc.py\", line 140, in qc_reads\n",
      "    raise RuntimeError('All genes removed in QC.')\n",
      "RuntimeError: All genes removed in QC.\n",
      "    raise RuntimeError('All genes removed in QC.')\n",
      "RuntimeError: All genes removed in QC.\n",
      "    raise RuntimeError('All genes removed in QC.')\n",
      "RuntimeError: All genes removed in QC.\n",
      "    raise RuntimeError('All genes removed in QC.')\n",
      "RuntimeError: All genes removed in QC.\n",
      "    raise RuntimeError('All genes removed in QC.')\n",
      "RuntimeError: All genes removed in QC.\n"
     ]
    },
    {
     "name": "stdout",
     "output_type": "stream",
     "text": [
      "Error processing subset Subset7: Command '['python3', '-m', 'dictys', 'preproc', 'qc_reads', '/ocean/projects/cis240075p/asachan/datasets/B_Cell/multiome_1st_donor_UPMC_aggr/dictys_outs/tmp_static/Subset7/expression0.tsv.gz', '/ocean/projects/cis240075p/asachan/datasets/B_Cell/multiome_1st_donor_UPMC_aggr/dictys_outs/tmp_static/Subset7/expression.tsv.gz', '50', '10', '0', '200', '100', '0']' returned non-zero exit status 1.\n",
      "Error processing subset Subset3: Command '['python3', '-m', 'dictys', 'preproc', 'qc_reads', '/ocean/projects/cis240075p/asachan/datasets/B_Cell/multiome_1st_donor_UPMC_aggr/dictys_outs/tmp_static/Subset3/expression0.tsv.gz', '/ocean/projects/cis240075p/asachan/datasets/B_Cell/multiome_1st_donor_UPMC_aggr/dictys_outs/tmp_static/Subset3/expression.tsv.gz', '50', '10', '0', '200', '100', '0']' returned non-zero exit status 1.\n",
      "Finished processing subset Subset4Error processing subset Subset8: Command '['python3', '-m', 'dictys', 'preproc', 'qc_reads', '/ocean/projects/cis240075p/asachan/datasets/B_Cell/multiome_1st_donor_UPMC_aggr/dictys_outs/tmp_static/Subset8/expression0.tsv.gz', '/ocean/projects/cis240075p/asachan/datasets/B_Cell/multiome_1st_donor_UPMC_aggr/dictys_outs/tmp_static/Subset8/expression.tsv.gz', '50', '10', '0', '200', '100', '0']' returned non-zero exit status 1.\n",
      "\n",
      "Error processing subset Subset2: Command '['python3', '-m', 'dictys', 'preproc', 'qc_reads', '/ocean/projects/cis240075p/asachan/datasets/B_Cell/multiome_1st_donor_UPMC_aggr/dictys_outs/tmp_static/Subset2/expression0.tsv.gz', '/ocean/projects/cis240075p/asachan/datasets/B_Cell/multiome_1st_donor_UPMC_aggr/dictys_outs/tmp_static/Subset2/expression.tsv.gz', '50', '10', '0', '200', '100', '0']' returned non-zero exit status 1.Error processing subset Subset6: Command '['python3', '-m', 'dictys', 'preproc', 'qc_reads', '/ocean/projects/cis240075p/asachan/datasets/B_Cell/multiome_1st_donor_UPMC_aggr/dictys_outs/tmp_static/Subset6/expression0.tsv.gz', '/ocean/projects/cis240075p/asachan/datasets/B_Cell/multiome_1st_donor_UPMC_aggr/dictys_outs/tmp_static/Subset6/expression.tsv.gz', '50', '10', '0', '200', '100', '0']' returned non-zero exit status 1.Finished processing subset Subset9\n",
      "\n",
      "\n",
      "Finished processing subset Subset5\n",
      "Finished processing subset Subset0\n",
      "Finished processing subset Subset1\n",
      "All subsets processed successfully.\n"
     ]
    }
   ],
   "source": [
    "# Number of workers (cores) to use\n",
    "num_workers = 128\n",
    "\n",
    "# Use ProcessPoolExecutor to run multiple jobs in parallel\n",
    "with ProcessPoolExecutor(max_workers=num_workers) as executor:\n",
    "    # Map the subsets to the process_qc_reads function\n",
    "    executor.map(process_qc_reads, subsets)\n",
    "\n",
    "print(\"All subsets processed successfully.\")"
   ]
  },
  {
   "cell_type": "markdown",
   "metadata": {},
   "source": [
    "### Debugging the QC dropouts of cell-types"
   ]
  },
  {
   "cell_type": "code",
   "execution_count": null,
   "metadata": {},
   "outputs": [],
   "source": [
    "## check for the failed subsets how the expression matrix is filtered. Compare with the passed subsets."
   ]
  }
 ],
 "metadata": {
  "kernelspec": {
   "display_name": "dictys",
   "language": "python",
   "name": "python3"
  },
  "language_info": {
   "codemirror_mode": {
    "name": "ipython",
    "version": 3
   },
   "file_extension": ".py",
   "mimetype": "text/x-python",
   "name": "python",
   "nbconvert_exporter": "python",
   "pygments_lexer": "ipython3",
   "version": "3.9.19"
  }
 },
 "nbformat": 4,
 "nbformat_minor": 2
}
