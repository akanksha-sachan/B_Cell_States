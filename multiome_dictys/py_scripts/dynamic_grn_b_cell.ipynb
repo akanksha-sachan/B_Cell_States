{
 "cells": [
  {
   "cell_type": "markdown",
   "metadata": {},
   "source": [
    "## Prep traj outputs from stream"
   ]
  },
  {
   "cell_type": "code",
   "execution_count": 1,
   "metadata": {},
   "outputs": [],
   "source": [
    "# Removes CPU usage limit by some jupyter versions\n",
    "import os\n",
    "os.environ['KMP_AFFINITY'] = ''\n",
    "# Configure matplotlib to enable large animations\n",
    "import matplotlib\n",
    "matplotlib.rcParams['animation.embed_limit'] = 2**128\n",
    "import matplotlib.pyplot as plt\n",
    "# Prepare trajectory files\n",
    "import pandas as pd\n",
    "import dictys\n",
    "\n",
    "# path to stream outputs\n",
    "stream_outs = \"/ocean/projects/cis240075p/asachan/datasets/B_Cell/multiome_1st_donor_UPMC_aggr/stream_outs\"\n",
    "dictys_data_path = \"/ocean/projects/cis240075p/asachan/datasets/B_Cell/multiome_1st_donor_UPMC_aggr/dictys_outs/data\""
   ]
  },
  {
   "cell_type": "code",
   "execution_count": 2,
   "metadata": {},
   "outputs": [
    {
     "name": "stdout",
     "output_type": "stream",
     "text": [
      "dist DataFrame:\n"
     ]
    },
    {
     "data": {
      "text/html": [
       "<div>\n",
       "<style scoped>\n",
       "    .dataframe tbody tr th:only-of-type {\n",
       "        vertical-align: middle;\n",
       "    }\n",
       "\n",
       "    .dataframe tbody tr th {\n",
       "        vertical-align: top;\n",
       "    }\n",
       "\n",
       "    .dataframe thead th {\n",
       "        text-align: right;\n",
       "    }\n",
       "</style>\n",
       "<table border=\"1\" class=\"dataframe\">\n",
       "  <thead>\n",
       "    <tr style=\"text-align: right;\">\n",
       "      <th></th>\n",
       "      <th>S0</th>\n",
       "      <th>S1</th>\n",
       "      <th>S2</th>\n",
       "      <th>S3</th>\n",
       "    </tr>\n",
       "  </thead>\n",
       "  <tbody>\n",
       "    <tr>\n",
       "      <th>AAACAGCCAAGCCACT-3</th>\n",
       "      <td>0.003930</td>\n",
       "      <td>0.010666</td>\n",
       "      <td>0.006064</td>\n",
       "      <td>0.000259</td>\n",
       "    </tr>\n",
       "    <tr>\n",
       "      <th>AAACAGCCAAGGTGCA-1</th>\n",
       "      <td>0.000728</td>\n",
       "      <td>0.007464</td>\n",
       "      <td>0.001405</td>\n",
       "      <td>0.004918</td>\n",
       "    </tr>\n",
       "    <tr>\n",
       "      <th>AAACAGCCAAGTTATC-1</th>\n",
       "      <td>0.000459</td>\n",
       "      <td>0.006277</td>\n",
       "      <td>0.002593</td>\n",
       "      <td>0.004648</td>\n",
       "    </tr>\n",
       "    <tr>\n",
       "      <th>AAACAGCCAATAGCCC-1</th>\n",
       "      <td>0.000553</td>\n",
       "      <td>0.007288</td>\n",
       "      <td>0.001581</td>\n",
       "      <td>0.004742</td>\n",
       "    </tr>\n",
       "    <tr>\n",
       "      <th>AAACAGCCAGTTAGCC-1</th>\n",
       "      <td>0.000495</td>\n",
       "      <td>0.007230</td>\n",
       "      <td>0.001639</td>\n",
       "      <td>0.004684</td>\n",
       "    </tr>\n",
       "  </tbody>\n",
       "</table>\n",
       "</div>"
      ],
      "text/plain": [
       "                          S0        S1        S2        S3\n",
       "AAACAGCCAAGCCACT-3  0.003930  0.010666  0.006064  0.000259\n",
       "AAACAGCCAAGGTGCA-1  0.000728  0.007464  0.001405  0.004918\n",
       "AAACAGCCAAGTTATC-1  0.000459  0.006277  0.002593  0.004648\n",
       "AAACAGCCAATAGCCC-1  0.000553  0.007288  0.001581  0.004742\n",
       "AAACAGCCAGTTAGCC-1  0.000495  0.007230  0.001639  0.004684"
      ]
     },
     "metadata": {},
     "output_type": "display_data"
    },
    {
     "name": "stdout",
     "output_type": "stream",
     "text": [
      "edge DataFrame:\n"
     ]
    },
    {
     "data": {
      "text/html": [
       "<div>\n",
       "<style scoped>\n",
       "    .dataframe tbody tr th:only-of-type {\n",
       "        vertical-align: middle;\n",
       "    }\n",
       "\n",
       "    .dataframe tbody tr th {\n",
       "        vertical-align: top;\n",
       "    }\n",
       "\n",
       "    .dataframe thead th {\n",
       "        text-align: right;\n",
       "    }\n",
       "</style>\n",
       "<table border=\"1\" class=\"dataframe\">\n",
       "  <thead>\n",
       "    <tr style=\"text-align: right;\">\n",
       "      <th></th>\n",
       "      <th>0</th>\n",
       "      <th>1</th>\n",
       "    </tr>\n",
       "  </thead>\n",
       "  <tbody>\n",
       "    <tr>\n",
       "      <th>0</th>\n",
       "      <td>0</td>\n",
       "      <td>1</td>\n",
       "    </tr>\n",
       "    <tr>\n",
       "      <th>1</th>\n",
       "      <td>0</td>\n",
       "      <td>2</td>\n",
       "    </tr>\n",
       "    <tr>\n",
       "      <th>2</th>\n",
       "      <td>0</td>\n",
       "      <td>3</td>\n",
       "    </tr>\n",
       "  </tbody>\n",
       "</table>\n",
       "</div>"
      ],
      "text/plain": [
       "   0  1\n",
       "0  0  1\n",
       "1  0  2\n",
       "2  0  3"
      ]
     },
     "metadata": {},
     "output_type": "display_data"
    },
    {
     "name": "stdout",
     "output_type": "stream",
     "text": [
      "branch DataFrame:\n"
     ]
    },
    {
     "data": {
      "text/html": [
       "<div>\n",
       "<style scoped>\n",
       "    .dataframe tbody tr th:only-of-type {\n",
       "        vertical-align: middle;\n",
       "    }\n",
       "\n",
       "    .dataframe tbody tr th {\n",
       "        vertical-align: top;\n",
       "    }\n",
       "\n",
       "    .dataframe thead th {\n",
       "        text-align: right;\n",
       "    }\n",
       "</style>\n",
       "<table border=\"1\" class=\"dataframe\">\n",
       "  <thead>\n",
       "    <tr style=\"text-align: right;\">\n",
       "      <th></th>\n",
       "      <th>0</th>\n",
       "      <th>1</th>\n",
       "    </tr>\n",
       "  </thead>\n",
       "  <tbody>\n",
       "    <tr>\n",
       "      <th>0</th>\n",
       "      <td>0</td>\n",
       "      <td>3</td>\n",
       "    </tr>\n",
       "    <tr>\n",
       "      <th>1</th>\n",
       "      <td>0</td>\n",
       "      <td>2</td>\n",
       "    </tr>\n",
       "    <tr>\n",
       "      <th>2</th>\n",
       "      <td>0</td>\n",
       "      <td>1</td>\n",
       "    </tr>\n",
       "    <tr>\n",
       "      <th>3</th>\n",
       "      <td>0</td>\n",
       "      <td>2</td>\n",
       "    </tr>\n",
       "    <tr>\n",
       "      <th>4</th>\n",
       "      <td>0</td>\n",
       "      <td>2</td>\n",
       "    </tr>\n",
       "  </tbody>\n",
       "</table>\n",
       "</div>"
      ],
      "text/plain": [
       "   0  1\n",
       "0  0  3\n",
       "1  0  2\n",
       "2  0  1\n",
       "3  0  2\n",
       "4  0  2"
      ]
     },
     "metadata": {},
     "output_type": "display_data"
    },
    {
     "name": "stdout",
     "output_type": "stream",
     "text": [
      "branch DataFrame shape: (28236, 2)\n"
     ]
    }
   ],
   "source": [
    "# Load data\n",
    "dist = pd.read_csv(os.path.join(stream_outs, 'dist.tsv.gz'), header=0, index_col=0, sep='\\t')\n",
    "edge = pd.read_csv(os.path.join(stream_outs, 'edge.tsv.gz'), header=None, index_col=None, sep='\\t')\n",
    "branch = pd.read_csv(os.path.join(stream_outs, 'branch.tsv.gz'), header=None, index_col=None, sep='\\t')\n",
    "\n",
    "# Display the first few rows of each DataFrame to confirm successful loading\n",
    "print(\"dist DataFrame:\")\n",
    "display(dist.head())\n",
    "\n",
    "print(\"edge DataFrame:\")\n",
    "display(edge.head())\n",
    "\n",
    "print(\"branch DataFrame:\")\n",
    "display(branch.head())\n",
    "print(\"branch DataFrame shape:\", branch.shape)"
   ]
  },
  {
   "cell_type": "code",
   "execution_count": 3,
   "metadata": {},
   "outputs": [],
   "source": [
    "# Save data\n",
    "traj = dictys.traj.trajectory.fromdist(edge.values, dist.values)\n",
    "traj_file_path = os.path.join(dictys_data_path, 'traj_node.h5')\n",
    "traj.to_file(traj_file_path)\n",
    "\n",
    "point = dictys.traj.point.fromdist(traj, branch.values, dist.values)\n",
    "point_file_path = os.path.join(dictys_data_path, 'traj_cell_rna.h5')\n",
    "point.to_file(point_file_path, traj=False)"
   ]
  },
  {
   "cell_type": "code",
   "execution_count": 4,
   "metadata": {},
   "outputs": [
    {
     "name": "stdout",
     "output_type": "stream",
     "text": [
      "traj_file keys: <KeysViewHDF5 ['edges', 'lens']>\n",
      "point_file keys: <KeysViewHDF5 ['edges', 'locs']>\n",
      "traj_file values:\n",
      "edges : <HDF5 dataset \"edges\": shape (3, 2), type \"<i8\">\n",
      "lens : <HDF5 dataset \"lens\": shape (3,), type \"<f8\">\n",
      "point_file values:\n",
      "edges : <HDF5 dataset \"edges\": shape (28236,), type \"<i8\">\n",
      "locs : <HDF5 dataset \"locs\": shape (28236,), type \"<f8\">\n"
     ]
    }
   ],
   "source": [
    "# inspect the output .h5 files\n",
    "import h5py\n",
    "traj_file = h5py.File(traj_file_path, 'r')\n",
    "point_file = h5py.File(point_file_path, 'r')\n",
    "\n",
    "# print keys\n",
    "print(\"traj_file keys:\", traj_file.keys())\n",
    "print(\"point_file keys:\", point_file.keys())\n",
    "\n",
    "#print values\n",
    "print(\"traj_file values:\")\n",
    "for key in traj_file.keys():\n",
    "    print(key, \":\", traj_file[key])\n",
    "\n",
    "print(\"point_file values:\")\n",
    "for key in point_file.keys():\n",
    "    print(key, \":\", point_file[key])"
   ]
  },
  {
   "cell_type": "markdown",
   "metadata": {},
   "source": [
    "## Prep the subsets and cell barcodes post filtering cells (28,236 cells only) \n",
    "* Submit sbatch"
   ]
  },
  {
   "cell_type": "code",
   "execution_count": 5,
   "metadata": {},
   "outputs": [
    {
     "name": "stdout",
     "output_type": "stream",
     "text": [
      "Activated_B_Cells\n",
      "Day_1_Cells\n",
      "Day_3_Cells\n",
      "Germinal_Center\n",
      "Plasma_Blast\n",
      "Undefined\n"
     ]
    }
   ],
   "source": [
    "################# Check the subsets output #################\n",
    "#Cell subset list\n",
    "!head $dictys_data_path/subsets.txt"
   ]
  },
  {
   "cell_type": "markdown",
   "metadata": {},
   "source": [
    "## Prepare configs for network inference"
   ]
  },
  {
   "cell_type": "code",
   "execution_count": 10,
   "metadata": {},
   "outputs": [],
   "source": [
    "%%bash\n",
    "# Generate configuration template\n",
    "rm -Rf /ocean/projects/cis240075p/asachan/bio_informatics_analysis/B_Cells_human_analysis/analysis_repo/multiome_dictys/makefiles\n",
    "mkdir /ocean/projects/cis240075p/asachan/bio_informatics_analysis/B_Cells_human_analysis/analysis_repo/multiome_dictys/makefiles\n",
    "cd /ocean/projects/cis240075p/asachan/bio_informatics_analysis/B_Cells_human_analysis/analysis_repo/multiome_dictys/makefiles\n",
    "dictys_helper makefile_template.sh common.mk config.mk env_none.mk dynamic.mk\n",
    "\n",
    "# Update configurations, such as:\n",
    "# DEVICE: pytorch device, e.g. cpu, cuda:0. If you do not have a GPU, use 'cpu' and expect LONG computing time.\n",
    "# GENOME_MACS2: effective genome size for macs2. See https://deeptools.readthedocs.io/en/develop/content/feature/effectiveGenomeSize.html\n",
    "# JOINT: whether dataset is joint profiling of RNA and ATAC.\n",
    "# Other configurations include quality control thresholds, number of threads in each job, number of hidden confounders, etc.\n",
    "# They can be obtained in the full-multiome tutorial.\n",
    "dictys_helper makefile_update.py /ocean/projects/cis240075p/asachan/bio_informatics_analysis/B_Cells_human_analysis/analysis_repo/multiome_dictys/makefiles/config.mk '{\"DEVICE\": \"cuda:0\", \"GENOME_MACS2\": \"hs\", \"JOINT\": \"1\"}'\n"
   ]
  },
  {
   "cell_type": "code",
   "execution_count": 1,
   "metadata": {},
   "outputs": [
    {
     "name": "stdout",
     "output_type": "stream",
     "text": [
      "Joint profile: True\n",
      "Found 36306 cells with RNA profile\n",
      "Found 24026 genes with RNA profile\n",
      "Found 15285 cells with ATAC profile\n",
      "Traceback (most recent call last):\n",
      "  File \"/ocean/projects/cis240075p/asachan/.conda/envs/dictys/lib/python3.9/site-packages/dictys/scripts/helper/makefile_check.py\", line 149, in <module>\n",
      "    raise FileNotFoundError(s)\n",
      "FileNotFoundError: Not all cells with RNA profile in expression.tsv.gz has a bam file in bams folder for the joint profiling dataset. First three cells missing: GAGCCACTCCTTGCGT-3, AGGTTAGAGCACCACA-2, GCAGGAAGTACCCACC-3\n"
     ]
    }
   ],
   "source": [
    "!dictys_helper makefile_check.py --dir_data /ocean/projects/cis240075p/asachan/datasets/B_Cell/multiome_1st_donor_UPMC_aggr/dictys_outs/data --dir_makefiles /ocean/projects/cis240075p/asachan/bio_informatics_analysis/B_Cells_human_analysis/analysis_repo/multiome_dictys/makefiles"
   ]
  },
  {
   "cell_type": "markdown",
   "metadata": {},
   "source": [
    "#### check preproc function on data separately before running on the make system"
   ]
  }
 ],
 "metadata": {
  "kernelspec": {
   "display_name": "dictys",
   "language": "python",
   "name": "python3"
  },
  "language_info": {
   "codemirror_mode": {
    "name": "ipython",
    "version": 3
   },
   "file_extension": ".py",
   "mimetype": "text/x-python",
   "name": "python",
   "nbconvert_exporter": "python",
   "pygments_lexer": "ipython3",
   "version": "3.9.19"
  }
 },
 "nbformat": 4,
 "nbformat_minor": 2
}
