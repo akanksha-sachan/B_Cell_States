{
 "cells": [
  {
   "cell_type": "markdown",
   "metadata": {},
   "source": [
    "#### Makefiles for GRN inference"
   ]
  },
  {
   "cell_type": "code",
   "execution_count": 1,
   "metadata": {},
   "outputs": [],
   "source": [
    "%%bash\n",
    "code_dir=\"/ocean/projects/cis240075p/asachan/bio_informatics_analysis/multiome_B_Cell_analysis/B_Cell_analysis_code/methods/dictys_runs\"\n",
    "rm -Rf $code_dir/makefiles\n",
    "mkdir $code_dir/makefiles\n",
    "cd $code_dir/makefiles\n",
    "dictys_helper makefile_template.sh common.mk config.mk env_none.mk static.mk\n"
   ]
  },
  {
   "cell_type": "code",
   "execution_count": 2,
   "metadata": {},
   "outputs": [],
   "source": [
    "%%bash\n",
    "code_dir=\"/ocean/projects/cis240075p/asachan/bio_informatics_analysis/multiome_B_Cell_analysis/B_Cell_analysis_code/methods/dictys_runs\"\n",
    "# Update configurations, such as:\n",
    "# DEVICE: pytorch device, e.g. cpu, cuda:0. If you do not have a GPU, use 'cpu' and expect LONG computing time.\n",
    "# GENOME_MACS2: effective genome size for macs2. See https://deeptools.readthedocs.io/en/develop/content/feature/effectiveGenomeSize.html\n",
    "# JOINT: whether dataset is joint profiling of RNA and ATAC.\n",
    "# Other configurations include quality control thresholds, number of threads in each job, number of hidden confounders, etc.\n",
    "# They can be obtained in the full-multiome tutorial.\n",
    "# NTH*j = 128, where j is the number of jobs defined during execution\n",
    "dictys_helper makefile_update.py $code_dir/makefiles/config.mk '{\"ENVMODE\": \"none\", \"NTH\": \"4\", \"DEVICE\": \"cuda:0\", \"GENOME_MACS2\": \"hs\", \"JOINT\": \"1\"}'\n"
   ]
  },
  {
   "cell_type": "code",
   "execution_count": 3,
   "metadata": {},
   "outputs": [
    {
     "name": "stdout",
     "output_type": "stream",
     "text": [
      "# Lingfei Wang, 2022. All rights reserved.\n",
      "#This file contains parameters for whole run and individual steps to be edited for your dataset\n",
      "#This file should be edited to configure the run\n",
      "#This file should NOT be directly used for any run with `makefile -f` \n",
      "\n",
      "############################################################\n",
      "# Run environment settings\n",
      "############################################################\n",
      "#Which environment to use, corresponding to env_$(ENVMODE).mk file\n",
      "ENVMODE=none\n",
      "#Maximum number of CPU threads for each job\n",
      "#This is only nominated and passed through to other softwares without any guarantee.\n",
      "NTH=4\n",
      "#Device name for pyro/pytorch\n",
      "#Note: cuda devices other than cuda:0 could be incompatible with singularity environment\n",
      "DEVICE=cuda:0\n",
      "\n",
      "############################################################\n",
      "# Dataset settings\n",
      "############################################################\n",
      "\n",
      "#Genome size for Macs2, accept shortcuts like mm & hs\n",
      "GENOME_MACS2=hs\n",
      "#Whether dataset is joint profiling of RNA & ATAC of same cell. Separate measurements of two modalities in different cells: 0. Joint measurements: 1.\n",
      "JOINT=1\n",
      "\n",
      "#######################################################################################\n",
      "# Parameters of individual steps shared by cell-type specific and dynamic GRN inference\n",
      "#######################################################################################\n",
      "\n",
      "PARAMS-PREPROC-QC_READS:=50 10 0 200 100 0\n",
      "PARAMS-CHROMATIN-MACS2:=$(GENOME_MACS2)\n",
      "PARAMS-CHROMATIN-BINLINKING:=20\n",
      "KPARAMS-PREPROC-SELECTSC_RNA:=\n",
      "KPARAMS-PREPROC-QC_READS:=\n",
      "KPARAMS-PREPROC-SELECTSC_ATAC:=\n",
      "KPARAMS-CHROMATIN-MACS2:=--nth $(NTH)\n",
      "KPARAMS-CHROMATIN-WELLINGTON:=--nth $(NTH)\n",
      "KPARAMS-CHROMATIN-HOMER:=--nth $(NTH)\n",
      "KPARAMS-CHROMATIN-BINDING:=\n",
      "KPARAMS-CHROMATIN-TSSDIST:=\n",
      "KPARAMS-CHROMATIN-LINKING:=\n",
      "KPARAMS-CHROMATIN-BINLINKING:=\n",
      "KPARAMS-NETWORK-RECONSTRUCT:=--device $(DEVICE) --nth $(NTH)\n",
      "KPARAMS-NETWORK-INDIRECT:=--nth $(NTH)\n",
      "KPARAMS-NETWORK-NORMALIZE:=--nth $(NTH)\n",
      "KPARAMS-NETWORK-TOFILE:=$(KPARAMS-NETWORK-TOFILE_EXTRA)\n",
      "\n",
      "#######################################################################################\n",
      "# Parameters of individual steps only in dynamic GRN inference\n",
      "#######################################################################################\n",
      "\n",
      "PARAMS-DYNAMIC-SUBSETS_RNA=1000 875 0.05\n",
      "PARAMS-DYNAMIC-SUBSETS_ATAC=$(firstword $(PARAMS-DYNAMIC-SUBSETS_RNA))\n"
     ]
    }
   ],
   "source": [
    "!cat /ocean/projects/cis240075p/asachan/bio_informatics_analysis/multiome_B_Cell_analysis/B_Cell_analysis_code/methods/dictys_runs/makefiles/config.mk"
   ]
  },
  {
   "cell_type": "code",
   "execution_count": 4,
   "metadata": {},
   "outputs": [
    {
     "name": "stdout",
     "output_type": "stream",
     "text": [
      "Joint profile: True\n",
      "Found 35420 cells with RNA profile\n",
      "Found 24036 genes with RNA profile\n",
      "Found 35420 cells with ATAC profile\n",
      "Found 769 motifs\n",
      "Found 678 TFs\n",
      "Found 461 TFs in current dataset\n",
      "Missing 217 TFs in current dataset: ANDR,AP2A,AP2B,AP2C,AP2D,ARI3A,ARI5B,ATF6A,BARH1,BARH2,BC11A,BHA15,BHE22,BHE23,BHE40,BHE41,BMAL1,BRAC,BSH,COE1,COT1,COT2,CR3L1,CR3L2,ERR1,ERR2,ERR3,EVI1,GCR,HEN1,HMBX1,HME1,HME2,HNF6,HTF4,HXA1,HXA10,HXA11,HXA13,HXA2,HXA5,HXA7,HXA9,HXB1,HXB13,HXB2,HXB3,HXB4,HXB6,HXB7,HXB8,HXC10,HXC11,HXC12,HXC13,HXC6,HXC8,HXC9,HXD10,HXD11,HXD12,HXD13,HXD3,HXD4,HXD8,HXD9,ITF2,KAISO,MCR,MGAP,MLXPL,MYBA,MYBB,NDF1,NDF2,NF2L1,NF2L2,NFAC1,NFAC2,NFAC3,NFAC4,NGN2,NKX21,NKX22,NKX23,NKX25,NKX28,NKX31,NKX32,NKX61,NKX62,ONEC2,ONEC3,OZF,P53,P5F1B,P63,P73,PEBB,PHX2A,PHX2B,PIT1,PKNX1,PLAL1,PO2F1,PO2F2,PO2F3,PO3F1,PO3F2,PO3F3,PO3F4,PO4F1,PO4F2,PO4F3,PO5F1,PO6F1,PO6F2,PRD14,PRGR,RHXF1,RORG,RX,SMCA1,SMCA5,SRBP1,SRBP2,STA5A,STA5B,STF1,SUH,TF2LX,TF65,TF7L1,TF7L2,TFE2,THA,THA11,THB,TWST1,TYY1,TYY2,UBIP1,UNC4,Z324A,Z354A,ZBT14,ZBT17,ZBT18,ZBT48,ZBT49,ZBT7A,ZBT7B,ZEP1,ZEP2,ZF64A,ZKSC1,ZKSC3,ZN121,ZN134,ZN136,ZN140,ZN143,ZN148,ZN214,ZN219,ZN232,ZN250,ZN257,ZN260,ZN263,ZN264,ZN274,ZN281,ZN282,ZN317,ZN320,ZN322,ZN329,ZN331,ZN333,ZN335,ZN341,ZN350,ZN382,ZN384,ZN394,ZN410,ZN418,ZN423,ZN436,ZN449,ZN467,ZN490,ZN502,ZN524,ZN528,ZN547,ZN549,ZN554,ZN563,ZN582,ZN586,ZN589,ZN652,ZN667,ZN680,ZN708,ZN713,ZN740,ZN768,ZN770,ZN784,ZN816,ZSC16,ZSC22,ZSC31,ZSCA4\n",
      "Found 23533 genes with TSS information\n"
     ]
    },
    {
     "name": "stderr",
     "output_type": "stream",
     "text": [
      "WARNING:root:Chromosomes not found in reference genome: chrGL000194.1,chrMT\n",
      "Traceback (most recent call last):\n",
      "  File \"/ocean/projects/cis240075p/asachan/.conda/envs/dictys/lib/python3.9/site-packages/dictys/scripts/helper/makefile_check.py\", line 272, in <module>\n",
      "    raise ValueError(s)\n",
      "ValueError: Subset RNA cells in subsets/*/names_rna.txt could not be found in expression.tsv.gz. First three missing cells: AGTAGCTTCTAAATCG-2, GGCCATCAGCTGGAAA-2, TTTAGCTTCCCTCTAA-2\n"
     ]
    },
    {
     "ename": "CalledProcessError",
     "evalue": "Command 'b'#run checks on dataset and makefiles\\ndata=\"/ocean/projects/cis240075p/asachan/datasets/B_Cell/multiome_1st_donor_UPMC_aggr/dictys_outs/data\"\\nmakefiles=\"/ocean/projects/cis240075p/asachan/bio_informatics_analysis/multiome_B_Cell_analysis/B_Cell_analysis_code/methods/dictys_runs/makefiles\"\\n\\ndictys_helper makefile_check.py --dir_data $data --dir_makefiles $makefiles\\n'' returned non-zero exit status 1.",
     "output_type": "error",
     "traceback": [
      "\u001b[0;31m---------------------------------------------------------------------------\u001b[0m",
      "\u001b[0;31mCalledProcessError\u001b[0m                        Traceback (most recent call last)",
      "Cell \u001b[0;32mIn[4], line 1\u001b[0m\n\u001b[0;32m----> 1\u001b[0m \u001b[43mget_ipython\u001b[49m\u001b[43m(\u001b[49m\u001b[43m)\u001b[49m\u001b[38;5;241;43m.\u001b[39;49m\u001b[43mrun_cell_magic\u001b[49m\u001b[43m(\u001b[49m\u001b[38;5;124;43m'\u001b[39;49m\u001b[38;5;124;43mbash\u001b[39;49m\u001b[38;5;124;43m'\u001b[39;49m\u001b[43m,\u001b[49m\u001b[43m \u001b[49m\u001b[38;5;124;43m'\u001b[39;49m\u001b[38;5;124;43m'\u001b[39;49m\u001b[43m,\u001b[49m\u001b[43m \u001b[49m\u001b[38;5;124;43m'\u001b[39;49m\u001b[38;5;124;43m#run checks on dataset and makefiles\u001b[39;49m\u001b[38;5;130;43;01m\\n\u001b[39;49;00m\u001b[38;5;124;43mdata=\u001b[39;49m\u001b[38;5;124;43m\"\u001b[39;49m\u001b[38;5;124;43m/ocean/projects/cis240075p/asachan/datasets/B_Cell/multiome_1st_donor_UPMC_aggr/dictys_outs/data\u001b[39;49m\u001b[38;5;124;43m\"\u001b[39;49m\u001b[38;5;130;43;01m\\n\u001b[39;49;00m\u001b[38;5;124;43mmakefiles=\u001b[39;49m\u001b[38;5;124;43m\"\u001b[39;49m\u001b[38;5;124;43m/ocean/projects/cis240075p/asachan/bio_informatics_analysis/multiome_B_Cell_analysis/B_Cell_analysis_code/methods/dictys_runs/makefiles\u001b[39;49m\u001b[38;5;124;43m\"\u001b[39;49m\u001b[38;5;130;43;01m\\n\u001b[39;49;00m\u001b[38;5;130;43;01m\\n\u001b[39;49;00m\u001b[38;5;124;43mdictys_helper makefile_check.py --dir_data $data --dir_makefiles $makefiles\u001b[39;49m\u001b[38;5;130;43;01m\\n\u001b[39;49;00m\u001b[38;5;124;43m'\u001b[39;49m\u001b[43m)\u001b[49m\n",
      "File \u001b[0;32m/ocean/projects/cis240075p/asachan/.conda/envs/dictys/lib/python3.9/site-packages/IPython/core/interactiveshell.py:2517\u001b[0m, in \u001b[0;36mInteractiveShell.run_cell_magic\u001b[0;34m(self, magic_name, line, cell)\u001b[0m\n\u001b[1;32m   2515\u001b[0m \u001b[38;5;28;01mwith\u001b[39;00m \u001b[38;5;28mself\u001b[39m\u001b[38;5;241m.\u001b[39mbuiltin_trap:\n\u001b[1;32m   2516\u001b[0m     args \u001b[38;5;241m=\u001b[39m (magic_arg_s, cell)\n\u001b[0;32m-> 2517\u001b[0m     result \u001b[38;5;241m=\u001b[39m \u001b[43mfn\u001b[49m\u001b[43m(\u001b[49m\u001b[38;5;241;43m*\u001b[39;49m\u001b[43margs\u001b[49m\u001b[43m,\u001b[49m\u001b[43m \u001b[49m\u001b[38;5;241;43m*\u001b[39;49m\u001b[38;5;241;43m*\u001b[39;49m\u001b[43mkwargs\u001b[49m\u001b[43m)\u001b[49m\n\u001b[1;32m   2519\u001b[0m \u001b[38;5;66;03m# The code below prevents the output from being displayed\u001b[39;00m\n\u001b[1;32m   2520\u001b[0m \u001b[38;5;66;03m# when using magics with decorator @output_can_be_silenced\u001b[39;00m\n\u001b[1;32m   2521\u001b[0m \u001b[38;5;66;03m# when the last Python token in the expression is a ';'.\u001b[39;00m\n\u001b[1;32m   2522\u001b[0m \u001b[38;5;28;01mif\u001b[39;00m \u001b[38;5;28mgetattr\u001b[39m(fn, magic\u001b[38;5;241m.\u001b[39mMAGIC_OUTPUT_CAN_BE_SILENCED, \u001b[38;5;28;01mFalse\u001b[39;00m):\n",
      "File \u001b[0;32m/ocean/projects/cis240075p/asachan/.conda/envs/dictys/lib/python3.9/site-packages/IPython/core/magics/script.py:154\u001b[0m, in \u001b[0;36mScriptMagics._make_script_magic.<locals>.named_script_magic\u001b[0;34m(line, cell)\u001b[0m\n\u001b[1;32m    152\u001b[0m \u001b[38;5;28;01melse\u001b[39;00m:\n\u001b[1;32m    153\u001b[0m     line \u001b[38;5;241m=\u001b[39m script\n\u001b[0;32m--> 154\u001b[0m \u001b[38;5;28;01mreturn\u001b[39;00m \u001b[38;5;28;43mself\u001b[39;49m\u001b[38;5;241;43m.\u001b[39;49m\u001b[43mshebang\u001b[49m\u001b[43m(\u001b[49m\u001b[43mline\u001b[49m\u001b[43m,\u001b[49m\u001b[43m \u001b[49m\u001b[43mcell\u001b[49m\u001b[43m)\u001b[49m\n",
      "File \u001b[0;32m/ocean/projects/cis240075p/asachan/.conda/envs/dictys/lib/python3.9/site-packages/IPython/core/magics/script.py:314\u001b[0m, in \u001b[0;36mScriptMagics.shebang\u001b[0;34m(self, line, cell)\u001b[0m\n\u001b[1;32m    309\u001b[0m \u001b[38;5;28;01mif\u001b[39;00m args\u001b[38;5;241m.\u001b[39mraise_error \u001b[38;5;129;01mand\u001b[39;00m p\u001b[38;5;241m.\u001b[39mreturncode \u001b[38;5;241m!=\u001b[39m \u001b[38;5;241m0\u001b[39m:\n\u001b[1;32m    310\u001b[0m     \u001b[38;5;66;03m# If we get here and p.returncode is still None, we must have\u001b[39;00m\n\u001b[1;32m    311\u001b[0m     \u001b[38;5;66;03m# killed it but not yet seen its return code. We don't wait for it,\u001b[39;00m\n\u001b[1;32m    312\u001b[0m     \u001b[38;5;66;03m# in case it's stuck in uninterruptible sleep. -9 = SIGKILL\u001b[39;00m\n\u001b[1;32m    313\u001b[0m     rc \u001b[38;5;241m=\u001b[39m p\u001b[38;5;241m.\u001b[39mreturncode \u001b[38;5;129;01mor\u001b[39;00m \u001b[38;5;241m-\u001b[39m\u001b[38;5;241m9\u001b[39m\n\u001b[0;32m--> 314\u001b[0m     \u001b[38;5;28;01mraise\u001b[39;00m CalledProcessError(rc, cell)\n",
      "\u001b[0;31mCalledProcessError\u001b[0m: Command 'b'#run checks on dataset and makefiles\\ndata=\"/ocean/projects/cis240075p/asachan/datasets/B_Cell/multiome_1st_donor_UPMC_aggr/dictys_outs/data\"\\nmakefiles=\"/ocean/projects/cis240075p/asachan/bio_informatics_analysis/multiome_B_Cell_analysis/B_Cell_analysis_code/methods/dictys_runs/makefiles\"\\n\\ndictys_helper makefile_check.py --dir_data $data --dir_makefiles $makefiles\\n'' returned non-zero exit status 1."
     ]
    }
   ],
   "source": [
    "%%bash\n",
    "#run checks on dataset and makefiles\n",
    "data=\"/ocean/projects/cis240075p/asachan/datasets/B_Cell/multiome_1st_donor_UPMC_aggr/dictys_outs/data\"\n",
    "makefiles=\"/ocean/projects/cis240075p/asachan/bio_informatics_analysis/multiome_B_Cell_analysis/B_Cell_analysis_code/methods/dictys_runs/makefiles\"\n",
    "\n",
    "dictys_helper makefile_check.py --dir_data $data --dir_makefiles $makefiles"
   ]
  },
  {
   "cell_type": "markdown",
   "metadata": {},
   "source": [
    "#### Run Dictys (static)"
   ]
  }
 ],
 "metadata": {
  "kernelspec": {
   "display_name": "dictys",
   "language": "python",
   "name": "python3"
  },
  "language_info": {
   "codemirror_mode": {
    "name": "ipython",
    "version": 3
   },
   "file_extension": ".py",
   "mimetype": "text/x-python",
   "name": "python",
   "nbconvert_exporter": "python",
   "pygments_lexer": "ipython3",
   "version": "3.9.19"
  }
 },
 "nbformat": 4,
 "nbformat_minor": 2
}
